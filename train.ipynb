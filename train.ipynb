{
 "cells": [
  {
   "cell_type": "code",
   "execution_count": 4,
   "metadata": {},
   "outputs": [
    {
     "name": "stdout",
     "output_type": "stream",
     "text": [
      "\n",
      "==============================\n",
      "Training Static_BaseRNN\n",
      "==============================\n",
      "[INFO] Register count_linear() for <class 'torch.nn.modules.linear.Linear'>.\n"
     ]
    },
    {
     "name": "stderr",
     "output_type": "stream",
     "text": [
      "Training: 100%|██████████| 938/938 [00:18<00:00, 51.20batch/s, loss=0.4088, acc=81.73%, FLOPs=8342.35G]\n"
     ]
    },
    {
     "name": "stdout",
     "output_type": "stream",
     "text": [
      "Epoch 1 | Test Acc: 90.23%\n"
     ]
    },
    {
     "name": "stderr",
     "output_type": "stream",
     "text": [
      "Training: 100%|██████████| 938/938 [00:18<00:00, 50.86batch/s, loss=0.2795, acc=90.68%, FLOPs=16684.70G]\n"
     ]
    },
    {
     "name": "stdout",
     "output_type": "stream",
     "text": [
      "Epoch 2 | Test Acc: 92.03%\n"
     ]
    },
    {
     "name": "stderr",
     "output_type": "stream",
     "text": [
      "Training: 100%|██████████| 938/938 [00:21<00:00, 44.51batch/s, loss=0.3733, acc=92.24%, FLOPs=25027.06G]\n"
     ]
    },
    {
     "name": "stdout",
     "output_type": "stream",
     "text": [
      "Epoch 3 | Test Acc: 93.10%\n"
     ]
    },
    {
     "name": "stderr",
     "output_type": "stream",
     "text": [
      "Training: 100%|██████████| 938/938 [00:18<00:00, 51.39batch/s, loss=0.3051, acc=93.26%, FLOPs=33369.41G]\n"
     ]
    },
    {
     "name": "stdout",
     "output_type": "stream",
     "text": [
      "Epoch 4 | Test Acc: 93.85%\n"
     ]
    },
    {
     "name": "stderr",
     "output_type": "stream",
     "text": [
      "Training: 100%|██████████| 938/938 [00:18<00:00, 50.56batch/s, loss=0.1126, acc=93.97%, FLOPs=41711.76G]\n"
     ]
    },
    {
     "name": "stdout",
     "output_type": "stream",
     "text": [
      "Epoch 5 | Test Acc: 94.29%\n"
     ]
    },
    {
     "name": "stderr",
     "output_type": "stream",
     "text": [
      "Training: 100%|██████████| 938/938 [00:18<00:00, 50.99batch/s, loss=0.1169, acc=94.56%, FLOPs=50054.11G]\n"
     ]
    },
    {
     "name": "stdout",
     "output_type": "stream",
     "text": [
      "Epoch 6 | Test Acc: 94.63%\n"
     ]
    },
    {
     "name": "stderr",
     "output_type": "stream",
     "text": [
      "Training: 100%|██████████| 938/938 [00:18<00:00, 51.26batch/s, loss=0.1347, acc=95.00%, FLOPs=58396.46G]\n"
     ]
    },
    {
     "name": "stdout",
     "output_type": "stream",
     "text": [
      "Epoch 7 | Test Acc: 95.05%\n"
     ]
    },
    {
     "name": "stderr",
     "output_type": "stream",
     "text": [
      "Training: 100%|██████████| 938/938 [00:18<00:00, 51.09batch/s, loss=0.0508, acc=95.43%, FLOPs=66738.82G]\n"
     ]
    },
    {
     "name": "stdout",
     "output_type": "stream",
     "text": [
      "Epoch 8 | Test Acc: 95.37%\n"
     ]
    },
    {
     "name": "stderr",
     "output_type": "stream",
     "text": [
      "Training: 100%|██████████| 938/938 [00:18<00:00, 51.29batch/s, loss=0.1645, acc=95.80%, FLOPs=75081.17G]\n"
     ]
    },
    {
     "name": "stdout",
     "output_type": "stream",
     "text": [
      "Epoch 9 | Test Acc: 95.65%\n"
     ]
    },
    {
     "name": "stderr",
     "output_type": "stream",
     "text": [
      "Training: 100%|██████████| 938/938 [00:18<00:00, 51.45batch/s, loss=0.1160, acc=96.14%, FLOPs=83423.52G]\n"
     ]
    },
    {
     "name": "stdout",
     "output_type": "stream",
     "text": [
      "Epoch 10 | Test Acc: 95.77%\n",
      "\n",
      "==============================\n",
      "Training Static_BaseRNN_random\n",
      "==============================\n"
     ]
    },
    {
     "name": "stderr",
     "output_type": "stream",
     "text": [
      "/home/honglab/leijiaxin/Simformer/net.py:44: UserWarning: To copy construct from a tensor, it is recommended to use sourceTensor.clone().detach() or sourceTensor.clone().detach().requires_grad_(True), rather than torch.tensor(sourceTensor).\n",
      "  self.register_buffer('W', torch.tensor(W_init * 1e-5, dtype=torch.float32))\n"
     ]
    },
    {
     "name": "stdout",
     "output_type": "stream",
     "text": [
      "[INFO] Register count_linear() for <class 'torch.nn.modules.linear.Linear'>.\n"
     ]
    },
    {
     "name": "stderr",
     "output_type": "stream",
     "text": [
      "Training: 100%|██████████| 938/938 [00:18<00:00, 50.89batch/s, loss=0.4542, acc=82.23%, FLOPs=8342.35G]\n"
     ]
    },
    {
     "name": "stdout",
     "output_type": "stream",
     "text": [
      "Epoch 1 | Test Acc: 90.48%\n"
     ]
    },
    {
     "name": "stderr",
     "output_type": "stream",
     "text": [
      "Training: 100%|██████████| 938/938 [00:18<00:00, 50.97batch/s, loss=0.1883, acc=90.85%, FLOPs=16684.70G]\n"
     ]
    },
    {
     "name": "stdout",
     "output_type": "stream",
     "text": [
      "Epoch 2 | Test Acc: 92.20%\n"
     ]
    },
    {
     "name": "stderr",
     "output_type": "stream",
     "text": [
      "Training: 100%|██████████| 938/938 [00:18<00:00, 50.88batch/s, loss=0.0639, acc=92.31%, FLOPs=25027.06G]\n"
     ]
    },
    {
     "name": "stdout",
     "output_type": "stream",
     "text": [
      "Epoch 3 | Test Acc: 93.10%\n"
     ]
    },
    {
     "name": "stderr",
     "output_type": "stream",
     "text": [
      "Training: 100%|██████████| 938/938 [00:18<00:00, 51.08batch/s, loss=0.1663, acc=93.35%, FLOPs=33369.41G]\n"
     ]
    },
    {
     "name": "stdout",
     "output_type": "stream",
     "text": [
      "Epoch 4 | Test Acc: 93.75%\n"
     ]
    },
    {
     "name": "stderr",
     "output_type": "stream",
     "text": [
      "Training: 100%|██████████| 938/938 [00:18<00:00, 51.23batch/s, loss=0.0679, acc=94.07%, FLOPs=41711.76G]\n"
     ]
    },
    {
     "name": "stdout",
     "output_type": "stream",
     "text": [
      "Epoch 5 | Test Acc: 94.22%\n"
     ]
    },
    {
     "name": "stderr",
     "output_type": "stream",
     "text": [
      "Training: 100%|██████████| 938/938 [00:18<00:00, 50.85batch/s, loss=0.0835, acc=94.58%, FLOPs=50054.11G]\n"
     ]
    },
    {
     "name": "stdout",
     "output_type": "stream",
     "text": [
      "Epoch 6 | Test Acc: 94.78%\n"
     ]
    },
    {
     "name": "stderr",
     "output_type": "stream",
     "text": [
      "Training: 100%|██████████| 938/938 [00:18<00:00, 51.15batch/s, loss=0.1900, acc=95.08%, FLOPs=58396.46G]\n"
     ]
    },
    {
     "name": "stdout",
     "output_type": "stream",
     "text": [
      "Epoch 7 | Test Acc: 95.12%\n"
     ]
    },
    {
     "name": "stderr",
     "output_type": "stream",
     "text": [
      "Training: 100%|██████████| 938/938 [00:14<00:00, 66.49batch/s, loss=0.0899, acc=95.47%, FLOPs=66738.82G]\n"
     ]
    },
    {
     "name": "stdout",
     "output_type": "stream",
     "text": [
      "Epoch 8 | Test Acc: 95.41%\n"
     ]
    },
    {
     "name": "stderr",
     "output_type": "stream",
     "text": [
      "Training: 100%|██████████| 938/938 [00:13<00:00, 70.90batch/s, loss=0.0505, acc=95.81%, FLOPs=75081.17G]\n"
     ]
    },
    {
     "name": "stdout",
     "output_type": "stream",
     "text": [
      "Epoch 9 | Test Acc: 95.67%\n"
     ]
    },
    {
     "name": "stderr",
     "output_type": "stream",
     "text": [
      "Training: 100%|██████████| 938/938 [00:18<00:00, 50.76batch/s, loss=0.2887, acc=96.14%, FLOPs=83423.52G]\n"
     ]
    },
    {
     "name": "stdout",
     "output_type": "stream",
     "text": [
      "Epoch 10 | Test Acc: 95.80%\n",
      "\n",
      "==============================\n",
      "Training Static_BaseRNN_RandSparse\n",
      "==============================\n"
     ]
    },
    {
     "name": "stderr",
     "output_type": "stream",
     "text": [
      "/home/honglab/leijiaxin/Simformer/net.py:44: UserWarning: To copy construct from a tensor, it is recommended to use sourceTensor.clone().detach() or sourceTensor.clone().detach().requires_grad_(True), rather than torch.tensor(sourceTensor).\n",
      "  self.register_buffer('W', torch.tensor(W_init * 1e-5, dtype=torch.float32))\n"
     ]
    },
    {
     "name": "stdout",
     "output_type": "stream",
     "text": [
      "[INFO] Register count_linear() for <class 'torch.nn.modules.linear.Linear'>.\n"
     ]
    },
    {
     "name": "stderr",
     "output_type": "stream",
     "text": [
      "Training: 100%|██████████| 938/938 [00:18<00:00, 51.23batch/s, loss=0.5836, acc=82.19%, FLOPs=8342.35G]\n"
     ]
    },
    {
     "name": "stdout",
     "output_type": "stream",
     "text": [
      "Epoch 1 | Test Acc: 90.24%\n"
     ]
    },
    {
     "name": "stderr",
     "output_type": "stream",
     "text": [
      "Training: 100%|██████████| 938/938 [00:18<00:00, 51.36batch/s, loss=0.4006, acc=90.76%, FLOPs=16684.70G]\n"
     ]
    },
    {
     "name": "stdout",
     "output_type": "stream",
     "text": [
      "Epoch 2 | Test Acc: 91.93%\n"
     ]
    },
    {
     "name": "stderr",
     "output_type": "stream",
     "text": [
      "Training: 100%|██████████| 938/938 [00:18<00:00, 51.22batch/s, loss=0.1223, acc=92.25%, FLOPs=25027.06G]\n"
     ]
    },
    {
     "name": "stdout",
     "output_type": "stream",
     "text": [
      "Epoch 3 | Test Acc: 93.00%\n"
     ]
    },
    {
     "name": "stderr",
     "output_type": "stream",
     "text": [
      "Training: 100%|██████████| 938/938 [00:18<00:00, 51.28batch/s, loss=0.1280, acc=93.26%, FLOPs=33369.41G]\n"
     ]
    },
    {
     "name": "stdout",
     "output_type": "stream",
     "text": [
      "Epoch 4 | Test Acc: 93.70%\n"
     ]
    },
    {
     "name": "stderr",
     "output_type": "stream",
     "text": [
      "Training: 100%|██████████| 938/938 [00:18<00:00, 51.32batch/s, loss=0.2034, acc=94.00%, FLOPs=41711.76G]\n"
     ]
    },
    {
     "name": "stdout",
     "output_type": "stream",
     "text": [
      "Epoch 5 | Test Acc: 94.35%\n"
     ]
    },
    {
     "name": "stderr",
     "output_type": "stream",
     "text": [
      "Training: 100%|██████████| 938/938 [00:18<00:00, 51.20batch/s, loss=0.0850, acc=94.55%, FLOPs=50054.11G]\n"
     ]
    },
    {
     "name": "stdout",
     "output_type": "stream",
     "text": [
      "Epoch 6 | Test Acc: 94.65%\n"
     ]
    },
    {
     "name": "stderr",
     "output_type": "stream",
     "text": [
      "Training: 100%|██████████| 938/938 [00:18<00:00, 51.02batch/s, loss=0.1259, acc=95.00%, FLOPs=58396.46G]\n"
     ]
    },
    {
     "name": "stdout",
     "output_type": "stream",
     "text": [
      "Epoch 7 | Test Acc: 94.99%\n"
     ]
    },
    {
     "name": "stderr",
     "output_type": "stream",
     "text": [
      "Training: 100%|██████████| 938/938 [00:18<00:00, 51.26batch/s, loss=0.0665, acc=95.41%, FLOPs=66738.82G]\n"
     ]
    },
    {
     "name": "stdout",
     "output_type": "stream",
     "text": [
      "Epoch 8 | Test Acc: 95.42%\n"
     ]
    },
    {
     "name": "stderr",
     "output_type": "stream",
     "text": [
      "Training: 100%|██████████| 938/938 [00:18<00:00, 51.19batch/s, loss=0.2035, acc=95.78%, FLOPs=75081.17G]\n"
     ]
    },
    {
     "name": "stdout",
     "output_type": "stream",
     "text": [
      "Epoch 9 | Test Acc: 95.71%\n"
     ]
    },
    {
     "name": "stderr",
     "output_type": "stream",
     "text": [
      "Training: 100%|██████████| 938/938 [00:18<00:00, 51.25batch/s, loss=0.0999, acc=96.13%, FLOPs=83423.52G]\n"
     ]
    },
    {
     "name": "stdout",
     "output_type": "stream",
     "text": [
      "Epoch 10 | Test Acc: 95.91%\n",
      "\n",
      "==============================\n",
      "Training Static_BaseRNN_RandStructure\n",
      "==============================\n"
     ]
    },
    {
     "name": "stderr",
     "output_type": "stream",
     "text": [
      "/home/honglab/leijiaxin/Simformer/net.py:44: UserWarning: To copy construct from a tensor, it is recommended to use sourceTensor.clone().detach() or sourceTensor.clone().detach().requires_grad_(True), rather than torch.tensor(sourceTensor).\n",
      "  self.register_buffer('W', torch.tensor(W_init * 1e-5, dtype=torch.float32))\n"
     ]
    },
    {
     "name": "stdout",
     "output_type": "stream",
     "text": [
      "[INFO] Register count_linear() for <class 'torch.nn.modules.linear.Linear'>.\n"
     ]
    },
    {
     "name": "stderr",
     "output_type": "stream",
     "text": [
      "Training: 100%|██████████| 938/938 [00:18<00:00, 51.69batch/s, loss=0.5459, acc=82.28%, FLOPs=8342.35G]\n"
     ]
    },
    {
     "name": "stdout",
     "output_type": "stream",
     "text": [
      "Epoch 1 | Test Acc: 90.43%\n"
     ]
    },
    {
     "name": "stderr",
     "output_type": "stream",
     "text": [
      "Training: 100%|██████████| 938/938 [00:18<00:00, 51.27batch/s, loss=0.2553, acc=90.80%, FLOPs=16684.70G]\n"
     ]
    },
    {
     "name": "stdout",
     "output_type": "stream",
     "text": [
      "Epoch 2 | Test Acc: 92.09%\n"
     ]
    },
    {
     "name": "stderr",
     "output_type": "stream",
     "text": [
      "Training: 100%|██████████| 938/938 [00:18<00:00, 51.07batch/s, loss=0.1905, acc=92.30%, FLOPs=25027.06G]\n"
     ]
    },
    {
     "name": "stdout",
     "output_type": "stream",
     "text": [
      "Epoch 3 | Test Acc: 93.05%\n"
     ]
    },
    {
     "name": "stderr",
     "output_type": "stream",
     "text": [
      "Training: 100%|██████████| 938/938 [00:18<00:00, 51.44batch/s, loss=0.1574, acc=93.32%, FLOPs=33369.41G]\n"
     ]
    },
    {
     "name": "stdout",
     "output_type": "stream",
     "text": [
      "Epoch 4 | Test Acc: 93.79%\n"
     ]
    },
    {
     "name": "stderr",
     "output_type": "stream",
     "text": [
      "Training: 100%|██████████| 938/938 [00:18<00:00, 51.28batch/s, loss=0.1385, acc=94.05%, FLOPs=41711.76G]\n"
     ]
    },
    {
     "name": "stdout",
     "output_type": "stream",
     "text": [
      "Epoch 5 | Test Acc: 94.40%\n"
     ]
    },
    {
     "name": "stderr",
     "output_type": "stream",
     "text": [
      "Training: 100%|██████████| 938/938 [00:18<00:00, 50.34batch/s, loss=0.3850, acc=94.62%, FLOPs=50054.11G]\n"
     ]
    },
    {
     "name": "stdout",
     "output_type": "stream",
     "text": [
      "Epoch 6 | Test Acc: 94.77%\n"
     ]
    },
    {
     "name": "stderr",
     "output_type": "stream",
     "text": [
      "Training: 100%|██████████| 938/938 [00:18<00:00, 51.56batch/s, loss=0.0723, acc=95.03%, FLOPs=58396.46G]\n"
     ]
    },
    {
     "name": "stdout",
     "output_type": "stream",
     "text": [
      "Epoch 7 | Test Acc: 95.13%\n"
     ]
    },
    {
     "name": "stderr",
     "output_type": "stream",
     "text": [
      "Training: 100%|██████████| 938/938 [00:18<00:00, 51.16batch/s, loss=0.1515, acc=95.45%, FLOPs=66738.82G]\n"
     ]
    },
    {
     "name": "stdout",
     "output_type": "stream",
     "text": [
      "Epoch 8 | Test Acc: 95.25%\n"
     ]
    },
    {
     "name": "stderr",
     "output_type": "stream",
     "text": [
      "Training: 100%|██████████| 938/938 [00:18<00:00, 51.46batch/s, loss=0.0417, acc=95.79%, FLOPs=75081.17G]\n"
     ]
    },
    {
     "name": "stdout",
     "output_type": "stream",
     "text": [
      "Epoch 9 | Test Acc: 95.61%\n"
     ]
    },
    {
     "name": "stderr",
     "output_type": "stream",
     "text": [
      "Training: 100%|██████████| 938/938 [00:18<00:00, 51.41batch/s, loss=0.1080, acc=96.12%, FLOPs=83423.52G]\n"
     ]
    },
    {
     "name": "stdout",
     "output_type": "stream",
     "text": [
      "Epoch 10 | Test Acc: 95.80%\n",
      "\n",
      "==============================\n",
      "Training Learnable_BaseRNN\n",
      "==============================\n",
      "[INFO] Register count_linear() for <class 'torch.nn.modules.linear.Linear'>.\n"
     ]
    },
    {
     "name": "stderr",
     "output_type": "stream",
     "text": [
      "Training: 100%|██████████| 938/938 [00:19<00:00, 47.11batch/s, loss=0.1005, acc=92.72%, FLOPs=8342.35G]\n"
     ]
    },
    {
     "name": "stdout",
     "output_type": "stream",
     "text": [
      "Epoch 1 | Test Acc: 95.82%\n"
     ]
    },
    {
     "name": "stderr",
     "output_type": "stream",
     "text": [
      "Training: 100%|██████████| 938/938 [00:19<00:00, 47.02batch/s, loss=0.1071, acc=96.95%, FLOPs=16684.70G]\n"
     ]
    },
    {
     "name": "stdout",
     "output_type": "stream",
     "text": [
      "Epoch 2 | Test Acc: 97.38%\n"
     ]
    },
    {
     "name": "stderr",
     "output_type": "stream",
     "text": [
      "Training: 100%|██████████| 938/938 [00:19<00:00, 47.00batch/s, loss=0.0370, acc=98.13%, FLOPs=25027.06G]\n"
     ]
    },
    {
     "name": "stdout",
     "output_type": "stream",
     "text": [
      "Epoch 3 | Test Acc: 97.93%\n"
     ]
    },
    {
     "name": "stderr",
     "output_type": "stream",
     "text": [
      "Training: 100%|██████████| 938/938 [00:20<00:00, 46.79batch/s, loss=0.0192, acc=98.69%, FLOPs=33369.41G]\n"
     ]
    },
    {
     "name": "stdout",
     "output_type": "stream",
     "text": [
      "Epoch 4 | Test Acc: 97.16%\n"
     ]
    },
    {
     "name": "stderr",
     "output_type": "stream",
     "text": [
      "Training: 100%|██████████| 938/938 [00:19<00:00, 47.14batch/s, loss=0.0069, acc=99.15%, FLOPs=41711.76G]\n"
     ]
    },
    {
     "name": "stdout",
     "output_type": "stream",
     "text": [
      "Epoch 5 | Test Acc: 97.69%\n"
     ]
    },
    {
     "name": "stderr",
     "output_type": "stream",
     "text": [
      "Training: 100%|██████████| 938/938 [00:20<00:00, 46.86batch/s, loss=0.0008, acc=99.35%, FLOPs=50054.11G]\n"
     ]
    },
    {
     "name": "stdout",
     "output_type": "stream",
     "text": [
      "Epoch 6 | Test Acc: 97.75%\n"
     ]
    },
    {
     "name": "stderr",
     "output_type": "stream",
     "text": [
      "Training: 100%|██████████| 938/938 [00:18<00:00, 50.08batch/s, loss=0.0508, acc=99.52%, FLOPs=58396.46G]\n"
     ]
    },
    {
     "name": "stdout",
     "output_type": "stream",
     "text": [
      "Epoch 7 | Test Acc: 98.13%\n"
     ]
    },
    {
     "name": "stderr",
     "output_type": "stream",
     "text": [
      "Training: 100%|██████████| 938/938 [00:14<00:00, 63.08batch/s, loss=0.0069, acc=99.63%, FLOPs=66738.82G]\n"
     ]
    },
    {
     "name": "stdout",
     "output_type": "stream",
     "text": [
      "Epoch 8 | Test Acc: 98.14%\n"
     ]
    },
    {
     "name": "stderr",
     "output_type": "stream",
     "text": [
      "Training: 100%|██████████| 938/938 [00:14<00:00, 63.34batch/s, loss=0.0775, acc=99.67%, FLOPs=75081.17G]\n"
     ]
    },
    {
     "name": "stdout",
     "output_type": "stream",
     "text": [
      "Epoch 9 | Test Acc: 97.66%\n"
     ]
    },
    {
     "name": "stderr",
     "output_type": "stream",
     "text": [
      "Training: 100%|██████████| 938/938 [00:15<00:00, 59.49batch/s, loss=0.0024, acc=99.68%, FLOPs=83423.52G]\n"
     ]
    },
    {
     "name": "stdout",
     "output_type": "stream",
     "text": [
      "Epoch 10 | Test Acc: 97.18%\n",
      "\n",
      "==============================\n",
      "Training Hungarian_RandInit_DrosoRef\n",
      "==============================\n"
     ]
    },
    {
     "name": "stderr",
     "output_type": "stream",
     "text": [
      "/home/honglab/leijiaxin/Simformer/net.py:42: UserWarning: To copy construct from a tensor, it is recommended to use sourceTensor.clone().detach() or sourceTensor.clone().detach().requires_grad_(True), rather than torch.tensor(sourceTensor).\n",
      "  self.W = nn.Parameter(torch.tensor(W_init * 1e-5, dtype=torch.float32))\n"
     ]
    },
    {
     "name": "stdout",
     "output_type": "stream",
     "text": [
      "[INFO] Register count_linear() for <class 'torch.nn.modules.linear.Linear'>.\n"
     ]
    },
    {
     "name": "stderr",
     "output_type": "stream",
     "text": [
      "Training: 100%|██████████| 938/938 [00:14<00:00, 62.87batch/s, loss=0.1065, acc=92.53%, FLOPs=8342.35G]\n"
     ]
    },
    {
     "name": "stdout",
     "output_type": "stream",
     "text": [
      "Epoch 1 | Test Acc: 96.20%\n"
     ]
    },
    {
     "name": "stderr",
     "output_type": "stream",
     "text": [
      "Training: 100%|██████████| 938/938 [00:15<00:00, 60.21batch/s, loss=0.0983, acc=97.06%, FLOPs=16684.70G]\n"
     ]
    },
    {
     "name": "stdout",
     "output_type": "stream",
     "text": [
      "Epoch 2 | Test Acc: 97.00%\n"
     ]
    },
    {
     "name": "stderr",
     "output_type": "stream",
     "text": [
      "Training: 100%|██████████| 938/938 [00:19<00:00, 46.93batch/s, loss=0.0602, acc=98.10%, FLOPs=25027.06G]\n"
     ]
    },
    {
     "name": "stdout",
     "output_type": "stream",
     "text": [
      "Epoch 3 | Test Acc: 97.60%\n"
     ]
    },
    {
     "name": "stderr",
     "output_type": "stream",
     "text": [
      "Training: 100%|██████████| 938/938 [00:17<00:00, 52.97batch/s, loss=0.0210, acc=98.65%, FLOPs=33369.41G]\n"
     ]
    },
    {
     "name": "stdout",
     "output_type": "stream",
     "text": [
      "Epoch 4 | Test Acc: 97.73%\n"
     ]
    },
    {
     "name": "stderr",
     "output_type": "stream",
     "text": [
      "Training: 100%|██████████| 938/938 [00:19<00:00, 46.98batch/s, loss=0.3072, acc=99.06%, FLOPs=41711.76G]\n"
     ]
    },
    {
     "name": "stdout",
     "output_type": "stream",
     "text": [
      "Epoch 5 | Test Acc: 97.68%\n"
     ]
    },
    {
     "name": "stderr",
     "output_type": "stream",
     "text": [
      "Training: 100%|██████████| 938/938 [00:20<00:00, 46.67batch/s, loss=0.0013, acc=99.45%, FLOPs=50054.11G]\n"
     ]
    },
    {
     "name": "stdout",
     "output_type": "stream",
     "text": [
      "Epoch 6 | Test Acc: 97.81%\n"
     ]
    },
    {
     "name": "stderr",
     "output_type": "stream",
     "text": [
      "Training: 100%|██████████| 938/938 [00:15<00:00, 62.02batch/s, loss=0.0533, acc=99.53%, FLOPs=58396.46G]\n"
     ]
    },
    {
     "name": "stdout",
     "output_type": "stream",
     "text": [
      "Epoch 7 | Test Acc: 97.86%\n"
     ]
    },
    {
     "name": "stderr",
     "output_type": "stream",
     "text": [
      "Training: 100%|██████████| 938/938 [00:15<00:00, 62.10batch/s, loss=0.0053, acc=99.55%, FLOPs=66738.82G]\n"
     ]
    },
    {
     "name": "stdout",
     "output_type": "stream",
     "text": [
      "Epoch 8 | Test Acc: 98.26%\n"
     ]
    },
    {
     "name": "stderr",
     "output_type": "stream",
     "text": [
      "Training: 100%|██████████| 938/938 [00:15<00:00, 62.03batch/s, loss=0.0267, acc=99.65%, FLOPs=75081.17G]\n"
     ]
    },
    {
     "name": "stdout",
     "output_type": "stream",
     "text": [
      "Epoch 9 | Test Acc: 98.05%\n"
     ]
    },
    {
     "name": "stderr",
     "output_type": "stream",
     "text": [
      "Training: 100%|██████████| 938/938 [00:19<00:00, 47.14batch/s, loss=0.0008, acc=99.72%, FLOPs=83423.52G]\n"
     ]
    },
    {
     "name": "stdout",
     "output_type": "stream",
     "text": [
      "Epoch 10 | Test Acc: 97.91%\n",
      "\n",
      "==============================\n",
      "Training Hungarian_RandInit_RandSparseRef\n",
      "==============================\n"
     ]
    },
    {
     "name": "stderr",
     "output_type": "stream",
     "text": [
      "/home/honglab/leijiaxin/Simformer/net.py:42: UserWarning: To copy construct from a tensor, it is recommended to use sourceTensor.clone().detach() or sourceTensor.clone().detach().requires_grad_(True), rather than torch.tensor(sourceTensor).\n",
      "  self.W = nn.Parameter(torch.tensor(W_init * 1e-5, dtype=torch.float32))\n"
     ]
    },
    {
     "name": "stdout",
     "output_type": "stream",
     "text": [
      "[INFO] Register count_linear() for <class 'torch.nn.modules.linear.Linear'>.\n"
     ]
    },
    {
     "name": "stderr",
     "output_type": "stream",
     "text": [
      "Training: 100%|██████████| 938/938 [00:19<00:00, 49.04batch/s, loss=0.0299, acc=92.68%, FLOPs=8342.35G]\n"
     ]
    },
    {
     "name": "stdout",
     "output_type": "stream",
     "text": [
      "Epoch 1 | Test Acc: 96.33%\n"
     ]
    },
    {
     "name": "stderr",
     "output_type": "stream",
     "text": [
      "Training: 100%|██████████| 938/938 [00:19<00:00, 47.11batch/s, loss=0.0267, acc=97.13%, FLOPs=16684.70G]\n"
     ]
    },
    {
     "name": "stdout",
     "output_type": "stream",
     "text": [
      "Epoch 2 | Test Acc: 97.23%\n"
     ]
    },
    {
     "name": "stderr",
     "output_type": "stream",
     "text": [
      "Training: 100%|██████████| 938/938 [00:20<00:00, 46.76batch/s, loss=0.0218, acc=98.13%, FLOPs=25027.06G]\n"
     ]
    },
    {
     "name": "stdout",
     "output_type": "stream",
     "text": [
      "Epoch 3 | Test Acc: 97.31%\n"
     ]
    },
    {
     "name": "stderr",
     "output_type": "stream",
     "text": [
      "Training: 100%|██████████| 938/938 [00:19<00:00, 46.92batch/s, loss=0.0063, acc=98.72%, FLOPs=33369.41G]\n"
     ]
    },
    {
     "name": "stdout",
     "output_type": "stream",
     "text": [
      "Epoch 4 | Test Acc: 97.31%\n"
     ]
    },
    {
     "name": "stderr",
     "output_type": "stream",
     "text": [
      "Training: 100%|██████████| 938/938 [00:20<00:00, 46.68batch/s, loss=0.0882, acc=99.06%, FLOPs=41711.76G]\n"
     ]
    },
    {
     "name": "stdout",
     "output_type": "stream",
     "text": [
      "Epoch 5 | Test Acc: 97.72%\n"
     ]
    },
    {
     "name": "stderr",
     "output_type": "stream",
     "text": [
      "Training: 100%|██████████| 938/938 [00:19<00:00, 46.93batch/s, loss=0.0137, acc=99.42%, FLOPs=50054.11G]\n"
     ]
    },
    {
     "name": "stdout",
     "output_type": "stream",
     "text": [
      "Epoch 6 | Test Acc: 97.74%\n"
     ]
    },
    {
     "name": "stderr",
     "output_type": "stream",
     "text": [
      "Training: 100%|██████████| 938/938 [00:19<00:00, 47.03batch/s, loss=0.0063, acc=99.49%, FLOPs=58396.46G]\n"
     ]
    },
    {
     "name": "stdout",
     "output_type": "stream",
     "text": [
      "Epoch 7 | Test Acc: 98.17%\n"
     ]
    },
    {
     "name": "stderr",
     "output_type": "stream",
     "text": [
      "Training: 100%|██████████| 938/938 [00:19<00:00, 47.22batch/s, loss=0.0027, acc=99.59%, FLOPs=66738.82G]\n"
     ]
    },
    {
     "name": "stdout",
     "output_type": "stream",
     "text": [
      "Epoch 8 | Test Acc: 97.61%\n"
     ]
    },
    {
     "name": "stderr",
     "output_type": "stream",
     "text": [
      "Training: 100%|██████████| 938/938 [00:15<00:00, 62.18batch/s, loss=0.0789, acc=99.71%, FLOPs=75081.17G]\n"
     ]
    },
    {
     "name": "stdout",
     "output_type": "stream",
     "text": [
      "Epoch 9 | Test Acc: 97.95%\n"
     ]
    },
    {
     "name": "stderr",
     "output_type": "stream",
     "text": [
      "Training: 100%|██████████| 938/938 [00:15<00:00, 62.00batch/s, loss=0.0005, acc=99.72%, FLOPs=83423.52G]\n"
     ]
    },
    {
     "name": "stdout",
     "output_type": "stream",
     "text": [
      "Epoch 10 | Test Acc: 97.49%\n",
      "\n",
      "==============================\n",
      "Training Hungarian_RandInit_RandStructureRef\n",
      "==============================\n"
     ]
    },
    {
     "name": "stderr",
     "output_type": "stream",
     "text": [
      "/home/honglab/leijiaxin/Simformer/net.py:42: UserWarning: To copy construct from a tensor, it is recommended to use sourceTensor.clone().detach() or sourceTensor.clone().detach().requires_grad_(True), rather than torch.tensor(sourceTensor).\n",
      "  self.W = nn.Parameter(torch.tensor(W_init * 1e-5, dtype=torch.float32))\n"
     ]
    },
    {
     "name": "stdout",
     "output_type": "stream",
     "text": [
      "[INFO] Register count_linear() for <class 'torch.nn.modules.linear.Linear'>.\n"
     ]
    },
    {
     "name": "stderr",
     "output_type": "stream",
     "text": [
      "Training: 100%|██████████| 938/938 [00:19<00:00, 47.63batch/s, loss=0.0484, acc=92.62%, FLOPs=8342.35G]\n"
     ]
    },
    {
     "name": "stdout",
     "output_type": "stream",
     "text": [
      "Epoch 1 | Test Acc: 96.41%\n"
     ]
    },
    {
     "name": "stderr",
     "output_type": "stream",
     "text": [
      "Training: 100%|██████████| 938/938 [00:23<00:00, 39.56batch/s, loss=0.1234, acc=97.01%, FLOPs=16684.70G]\n"
     ]
    },
    {
     "name": "stdout",
     "output_type": "stream",
     "text": [
      "Epoch 2 | Test Acc: 97.25%\n"
     ]
    },
    {
     "name": "stderr",
     "output_type": "stream",
     "text": [
      "Training: 100%|██████████| 938/938 [00:23<00:00, 39.59batch/s, loss=0.1064, acc=98.11%, FLOPs=25027.06G]\n"
     ]
    },
    {
     "name": "stdout",
     "output_type": "stream",
     "text": [
      "Epoch 3 | Test Acc: 97.67%\n"
     ]
    },
    {
     "name": "stderr",
     "output_type": "stream",
     "text": [
      "Training: 100%|██████████| 938/938 [00:15<00:00, 62.02batch/s, loss=0.0086, acc=98.69%, FLOPs=33369.41G]\n"
     ]
    },
    {
     "name": "stdout",
     "output_type": "stream",
     "text": [
      "Epoch 4 | Test Acc: 97.83%\n"
     ]
    },
    {
     "name": "stderr",
     "output_type": "stream",
     "text": [
      "Training: 100%|██████████| 938/938 [00:19<00:00, 48.81batch/s, loss=0.0196, acc=99.12%, FLOPs=41711.76G]\n"
     ]
    },
    {
     "name": "stdout",
     "output_type": "stream",
     "text": [
      "Epoch 5 | Test Acc: 98.00%\n"
     ]
    },
    {
     "name": "stderr",
     "output_type": "stream",
     "text": [
      "Training: 100%|██████████| 938/938 [00:15<00:00, 61.98batch/s, loss=0.0105, acc=99.43%, FLOPs=50054.11G]\n"
     ]
    },
    {
     "name": "stdout",
     "output_type": "stream",
     "text": [
      "Epoch 6 | Test Acc: 97.92%\n"
     ]
    },
    {
     "name": "stderr",
     "output_type": "stream",
     "text": [
      "Training: 100%|██████████| 938/938 [00:15<00:00, 61.84batch/s, loss=0.0035, acc=99.50%, FLOPs=58396.46G]\n"
     ]
    },
    {
     "name": "stdout",
     "output_type": "stream",
     "text": [
      "Epoch 7 | Test Acc: 97.69%\n"
     ]
    },
    {
     "name": "stderr",
     "output_type": "stream",
     "text": [
      "Training: 100%|██████████| 938/938 [00:15<00:00, 61.71batch/s, loss=0.0004, acc=99.55%, FLOPs=66738.82G]\n"
     ]
    },
    {
     "name": "stdout",
     "output_type": "stream",
     "text": [
      "Epoch 8 | Test Acc: 98.07%\n"
     ]
    },
    {
     "name": "stderr",
     "output_type": "stream",
     "text": [
      "Training: 100%|██████████| 938/938 [00:15<00:00, 61.87batch/s, loss=0.0004, acc=99.69%, FLOPs=75081.17G]\n"
     ]
    },
    {
     "name": "stdout",
     "output_type": "stream",
     "text": [
      "Epoch 9 | Test Acc: 98.07%\n"
     ]
    },
    {
     "name": "stderr",
     "output_type": "stream",
     "text": [
      "Training: 100%|██████████| 938/938 [00:21<00:00, 44.08batch/s, loss=0.0012, acc=99.76%, FLOPs=83423.52G]\n"
     ]
    },
    {
     "name": "stdout",
     "output_type": "stream",
     "text": [
      "Epoch 10 | Test Acc: 98.11%\n",
      "\n",
      "==============================\n",
      "Training Single_MLP\n",
      "==============================\n",
      "[INFO] Register count_linear() for <class 'torch.nn.modules.linear.Linear'>.\n"
     ]
    },
    {
     "name": "stderr",
     "output_type": "stream",
     "text": [
      "Training: 100%|██████████| 938/938 [00:12<00:00, 77.09batch/s, loss=0.4481, acc=83.18%, FLOPs=843.80G]\n"
     ]
    },
    {
     "name": "stdout",
     "output_type": "stream",
     "text": [
      "Epoch 1 | Test Acc: 89.44%\n"
     ]
    },
    {
     "name": "stderr",
     "output_type": "stream",
     "text": [
      "Training: 100%|██████████| 938/938 [00:11<00:00, 80.02batch/s, loss=0.2287, acc=89.77%, FLOPs=1687.60G]\n"
     ]
    },
    {
     "name": "stdout",
     "output_type": "stream",
     "text": [
      "Epoch 2 | Test Acc: 91.02%\n"
     ]
    },
    {
     "name": "stderr",
     "output_type": "stream",
     "text": [
      "Training: 100%|██████████| 938/938 [00:12<00:00, 72.27batch/s, loss=0.3073, acc=90.78%, FLOPs=2531.40G]\n"
     ]
    },
    {
     "name": "stdout",
     "output_type": "stream",
     "text": [
      "Epoch 3 | Test Acc: 91.58%\n"
     ]
    },
    {
     "name": "stderr",
     "output_type": "stream",
     "text": [
      "Training: 100%|██████████| 938/938 [00:12<00:00, 72.23batch/s, loss=0.1868, acc=91.35%, FLOPs=3375.20G]\n"
     ]
    },
    {
     "name": "stdout",
     "output_type": "stream",
     "text": [
      "Epoch 4 | Test Acc: 91.76%\n"
     ]
    },
    {
     "name": "stderr",
     "output_type": "stream",
     "text": [
      "Training: 100%|██████████| 938/938 [00:13<00:00, 72.08batch/s, loss=0.3405, acc=91.64%, FLOPs=4219.00G]\n"
     ]
    },
    {
     "name": "stdout",
     "output_type": "stream",
     "text": [
      "Epoch 5 | Test Acc: 91.93%\n"
     ]
    },
    {
     "name": "stderr",
     "output_type": "stream",
     "text": [
      "Training: 100%|██████████| 938/938 [00:13<00:00, 71.72batch/s, loss=0.1269, acc=91.91%, FLOPs=5062.80G]\n"
     ]
    },
    {
     "name": "stdout",
     "output_type": "stream",
     "text": [
      "Epoch 6 | Test Acc: 92.20%\n"
     ]
    },
    {
     "name": "stderr",
     "output_type": "stream",
     "text": [
      "Training: 100%|██████████| 938/938 [00:12<00:00, 77.16batch/s, loss=0.2807, acc=92.04%, FLOPs=5906.60G]\n"
     ]
    },
    {
     "name": "stdout",
     "output_type": "stream",
     "text": [
      "Epoch 7 | Test Acc: 92.20%\n"
     ]
    },
    {
     "name": "stderr",
     "output_type": "stream",
     "text": [
      "Training: 100%|██████████| 938/938 [00:10<00:00, 86.19batch/s, loss=0.4526, acc=92.24%, FLOPs=6750.40G]\n"
     ]
    },
    {
     "name": "stdout",
     "output_type": "stream",
     "text": [
      "Epoch 8 | Test Acc: 92.42%\n"
     ]
    },
    {
     "name": "stderr",
     "output_type": "stream",
     "text": [
      "Training: 100%|██████████| 938/938 [00:10<00:00, 86.17batch/s, loss=0.1148, acc=92.27%, FLOPs=7594.20G]\n"
     ]
    },
    {
     "name": "stdout",
     "output_type": "stream",
     "text": [
      "Epoch 9 | Test Acc: 92.38%\n"
     ]
    },
    {
     "name": "stderr",
     "output_type": "stream",
     "text": [
      "Training: 100%|██████████| 938/938 [00:10<00:00, 85.83batch/s, loss=0.3289, acc=92.41%, FLOPs=8438.00G]\n"
     ]
    },
    {
     "name": "stdout",
     "output_type": "stream",
     "text": [
      "Epoch 10 | Test Acc: 92.37%\n",
      "\n",
      "==============================\n",
      "Training Twohidden_MLP\n",
      "==============================\n",
      "[INFO] Register count_linear() for <class 'torch.nn.modules.linear.Linear'>.\n",
      "[INFO] Register zero_ops() for <class 'torch.nn.modules.activation.ReLU'>.\n"
     ]
    },
    {
     "name": "stderr",
     "output_type": "stream",
     "text": [
      "Training: 100%|██████████| 938/938 [00:11<00:00, 80.90batch/s, loss=0.3214, acc=83.80%, FLOPs=1054.60G]\n"
     ]
    },
    {
     "name": "stdout",
     "output_type": "stream",
     "text": [
      "Epoch 1 | Test Acc: 91.13%\n"
     ]
    },
    {
     "name": "stderr",
     "output_type": "stream",
     "text": [
      "Training: 100%|██████████| 938/938 [00:11<00:00, 81.48batch/s, loss=0.1322, acc=91.48%, FLOPs=2109.20G]\n"
     ]
    },
    {
     "name": "stdout",
     "output_type": "stream",
     "text": [
      "Epoch 2 | Test Acc: 92.58%\n"
     ]
    },
    {
     "name": "stderr",
     "output_type": "stream",
     "text": [
      "Training: 100%|██████████| 938/938 [00:11<00:00, 81.05batch/s, loss=0.2427, acc=93.05%, FLOPs=3163.80G]\n"
     ]
    },
    {
     "name": "stdout",
     "output_type": "stream",
     "text": [
      "Epoch 3 | Test Acc: 93.65%\n"
     ]
    },
    {
     "name": "stderr",
     "output_type": "stream",
     "text": [
      "Training: 100%|██████████| 938/938 [00:11<00:00, 81.29batch/s, loss=0.2655, acc=94.06%, FLOPs=4218.39G]\n"
     ]
    },
    {
     "name": "stdout",
     "output_type": "stream",
     "text": [
      "Epoch 4 | Test Acc: 94.39%\n"
     ]
    },
    {
     "name": "stderr",
     "output_type": "stream",
     "text": [
      "Training: 100%|██████████| 938/938 [00:11<00:00, 81.16batch/s, loss=0.3097, acc=94.71%, FLOPs=5272.99G]\n"
     ]
    },
    {
     "name": "stdout",
     "output_type": "stream",
     "text": [
      "Epoch 5 | Test Acc: 94.80%\n"
     ]
    },
    {
     "name": "stderr",
     "output_type": "stream",
     "text": [
      "Training: 100%|██████████| 938/938 [00:11<00:00, 78.68batch/s, loss=0.3028, acc=95.28%, FLOPs=6327.59G]\n"
     ]
    },
    {
     "name": "stdout",
     "output_type": "stream",
     "text": [
      "Epoch 6 | Test Acc: 95.48%\n"
     ]
    },
    {
     "name": "stderr",
     "output_type": "stream",
     "text": [
      "Training: 100%|██████████| 938/938 [00:11<00:00, 81.22batch/s, loss=0.0626, acc=95.79%, FLOPs=7382.19G]\n"
     ]
    },
    {
     "name": "stdout",
     "output_type": "stream",
     "text": [
      "Epoch 7 | Test Acc: 95.86%\n"
     ]
    },
    {
     "name": "stderr",
     "output_type": "stream",
     "text": [
      "Training: 100%|██████████| 938/938 [00:11<00:00, 80.43batch/s, loss=0.1280, acc=96.17%, FLOPs=8436.79G]\n"
     ]
    },
    {
     "name": "stdout",
     "output_type": "stream",
     "text": [
      "Epoch 8 | Test Acc: 95.99%\n"
     ]
    },
    {
     "name": "stderr",
     "output_type": "stream",
     "text": [
      "Training: 100%|██████████| 938/938 [00:11<00:00, 78.90batch/s, loss=0.0514, acc=96.61%, FLOPs=9491.39G]\n"
     ]
    },
    {
     "name": "stdout",
     "output_type": "stream",
     "text": [
      "Epoch 9 | Test Acc: 96.34%\n"
     ]
    },
    {
     "name": "stderr",
     "output_type": "stream",
     "text": [
      "Training: 100%|██████████| 938/938 [00:11<00:00, 80.93batch/s, loss=0.0812, acc=96.89%, FLOPs=10545.98G]\n"
     ]
    },
    {
     "name": "stdout",
     "output_type": "stream",
     "text": [
      "Epoch 10 | Test Acc: 96.52%\n",
      "\n",
      "==============================\n",
      "Training Static_MLP\n",
      "==============================\n",
      "[INFO] Register count_linear() for <class 'torch.nn.modules.linear.Linear'>.\n",
      "[INFO] Register zero_ops() for <class 'torch.nn.modules.activation.ReLU'>.\n"
     ]
    },
    {
     "name": "stderr",
     "output_type": "stream",
     "text": [
      "Training: 100%|██████████| 938/938 [00:09<00:00, 95.41batch/s, loss=0.3530, acc=79.11%, FLOPs=388.74G] \n"
     ]
    },
    {
     "name": "stdout",
     "output_type": "stream",
     "text": [
      "Epoch 1 | Test Acc: 90.49%\n"
     ]
    },
    {
     "name": "stderr",
     "output_type": "stream",
     "text": [
      "Training: 100%|██████████| 938/938 [00:09<00:00, 94.02batch/s, loss=0.0262, acc=92.50%, FLOPs=777.48G] \n"
     ]
    },
    {
     "name": "stdout",
     "output_type": "stream",
     "text": [
      "Epoch 2 | Test Acc: 93.27%\n"
     ]
    },
    {
     "name": "stderr",
     "output_type": "stream",
     "text": [
      "Training: 100%|██████████| 938/938 [00:10<00:00, 92.16batch/s, loss=0.0359, acc=94.99%, FLOPs=1166.23G]\n"
     ]
    },
    {
     "name": "stdout",
     "output_type": "stream",
     "text": [
      "Epoch 3 | Test Acc: 94.57%\n"
     ]
    },
    {
     "name": "stderr",
     "output_type": "stream",
     "text": [
      "Training: 100%|██████████| 938/938 [00:10<00:00, 91.57batch/s, loss=0.0312, acc=96.35%, FLOPs=1554.97G]\n"
     ]
    },
    {
     "name": "stdout",
     "output_type": "stream",
     "text": [
      "Epoch 4 | Test Acc: 95.50%\n"
     ]
    },
    {
     "name": "stderr",
     "output_type": "stream",
     "text": [
      "Training: 100%|██████████| 938/938 [00:09<00:00, 99.49batch/s, loss=0.0939, acc=97.40%, FLOPs=1943.71G] \n"
     ]
    },
    {
     "name": "stdout",
     "output_type": "stream",
     "text": [
      "Epoch 5 | Test Acc: 95.89%\n"
     ]
    },
    {
     "name": "stderr",
     "output_type": "stream",
     "text": [
      "Training: 100%|██████████| 938/938 [00:12<00:00, 74.31batch/s, loss=0.0497, acc=98.13%, FLOPs=2332.45G] \n"
     ]
    },
    {
     "name": "stdout",
     "output_type": "stream",
     "text": [
      "Epoch 6 | Test Acc: 95.84%\n"
     ]
    },
    {
     "name": "stderr",
     "output_type": "stream",
     "text": [
      "Training: 100%|██████████| 938/938 [00:13<00:00, 70.97batch/s, loss=0.0431, acc=98.69%, FLOPs=2721.20G]\n"
     ]
    },
    {
     "name": "stdout",
     "output_type": "stream",
     "text": [
      "Epoch 7 | Test Acc: 96.56%\n"
     ]
    },
    {
     "name": "stderr",
     "output_type": "stream",
     "text": [
      "Training: 100%|██████████| 938/938 [00:12<00:00, 72.22batch/s, loss=0.0237, acc=99.07%, FLOPs=3109.94G]\n"
     ]
    },
    {
     "name": "stdout",
     "output_type": "stream",
     "text": [
      "Epoch 8 | Test Acc: 96.61%\n"
     ]
    },
    {
     "name": "stderr",
     "output_type": "stream",
     "text": [
      "Training: 100%|██████████| 938/938 [00:12<00:00, 74.24batch/s, loss=0.0150, acc=99.40%, FLOPs=3498.68G]\n"
     ]
    },
    {
     "name": "stdout",
     "output_type": "stream",
     "text": [
      "Epoch 9 | Test Acc: 96.76%\n"
     ]
    },
    {
     "name": "stderr",
     "output_type": "stream",
     "text": [
      "Training: 100%|██████████| 938/938 [00:10<00:00, 86.17batch/s, loss=0.0207, acc=99.60%, FLOPs=3887.42G]\n"
     ]
    },
    {
     "name": "stdout",
     "output_type": "stream",
     "text": [
      "Epoch 10 | Test Acc: 96.92%\n"
     ]
    }
   ],
   "source": [
    "# File: train.py\n",
    "import torch\n",
    "import torch.nn as nn\n",
    "import torch.optim as optim\n",
    "from torchvision import datasets, transforms\n",
    "from thop import profile\n",
    "import pickle\n",
    "import numpy as np\n",
    "from tqdm import tqdm\n",
    "from net import *\n",
    "\n",
    "device = torch.device(\"cuda\" if torch.cuda.is_available() else \"cpu\")\n",
    "signed = False\n",
    "\n",
    "experiments = {\n",
    "    \"Static_BaseRNN\": {\"type\": \"basernn\", \"trainable\": False, \"pruning\": None, \"optim\": \"adam\"},\n",
    "    \"Static_BaseRNN_random\": {\"type\": \"basernn\", \"trainable\": False, \"pruning\": None, \"optim\": \"adam\", \"init\": \"random\"},\n",
    "    \"Static_BaseRNN_RandSparse\": {\"type\": \"basernn\", \"trainable\": False, \"pruning\": None, \"optim\": \"adam\", \"init\": \"randsparse\"},\n",
    "    \"Static_BaseRNN_RandStructure\":{\"type\": \"basernn\", \"trainable\": False, \"pruning\": None, \"optim\": \"adam\", \"init\": \"randstructure\"},\n",
    "    \"Learnable_BaseRNN\": {\"type\": \"basernn\", \"trainable\": True, \"pruning\": None, \"optim\": \"adam\"},\n",
    "    # \"CWS_Droso\": {\"type\": \"cwsrnn\", \"train_W\": True, \"train_C\": False, \"pruning\": None, \"optim\": \"adam\"},\n",
    "    # \"CWS_TrainC_pruning\": {\"type\": \"cwsrnn\", \"train_W\": True, \"train_C\": True, \"pruning\": \"drosophila\", \"optim\": \"adam\"},\n",
    "    # \"CWS_FixedC_random\": {\"type\": \"cwsrnn\", \"train_W\": True, \"train_C\": False, \"pruning\": None, \"init\": \"random\", \"optim\": \"adam\"},\n",
    "    # \"Static_CNN_RNN\": {\"type\": \"cnnrnn\", \"trainable\": False, \"pruning\": None, \"optim\": \"adam\"},\n",
    "    # \"Static_BaseRNN_fewshot\": {\"type\": \"basernn\", \"trainable\": False, \"pruning\": None, \"optim\": \"adam\", \"fewshot\": True},\n",
    "    # \"Static_CNN_RNN_fewshot\": {\"type\": \"cnnrnn\", \"trainable\": False, \"pruning\": None, \"optim\": \"adam\", \"fewshot\": True},\n",
    "    \n",
    "\n",
    "    # Hungarian\n",
    "    # \"Hungarian_DrosoInit_DrosoRef\": {\"type\": \"basernn\", \"trainable\": True, \"pruning\": \"hungarian\", \"optim\": \"adam\", \"init\": \"droso\", \"ref\": \"droso\"},\n",
    "    # \"Hungarian_DrosoInit_RandSparseRef\": {\"type\": \"basernn\", \"trainable\": True, \"pruning\": \"hungarian\", \"optim\": \"adam\", \"init\": \"droso\", \"ref\": \"randsparse\"},\n",
    "    # \"Hungarian_DrosoInit_RandStructureRef\": {\"type\": \"basernn\", \"trainable\": True, \"pruning\": \"hungarian\", \"optim\": \"adam\", \"init\": \"droso\", \"ref\": \"randstructure\"},\n",
    "    \"Hungarian_RandInit_DrosoRef\": {\"type\": \"basernn\", \"trainable\": True, \"pruning\": \"hungarian\", \"optim\": \"adam\", \"init\": \"random\", \"ref\": \"droso\"},\n",
    "    \"Hungarian_RandInit_RandSparseRef\": {\"type\": \"basernn\", \"trainable\": True, \"pruning\": \"hungarian\", \"optim\": \"adam\", \"init\": \"random\", \"ref\": \"randsparse\"},\n",
    "    \"Hungarian_RandInit_RandStructureRef\": {\"type\": \"basernn\", \"trainable\": True, \"pruning\": \"hungarian\", \"optim\": \"adam\", \"init\": \"random\", \"ref\": \"randstructure\"},\n",
    "    # \"Hungarian_RandSparseInit_DrosoRef\": {\"type\": \"basernn\", \"trainable\": True, \"pruning\": \"hungarian\", \"optim\": \"adam\", \"init\": \"randsparse\", \"ref\": \"droso\"},\n",
    "    # \"Hungarian_RandSparseInit_RandSparseRef\": {\"type\": \"basernn\", \"trainable\": True, \"pruning\": \"hungarian\", \"optim\": \"adam\", \"init\": \"randsparse\", \"ref\": \"randsparse\"},\n",
    "    # \"Hungarian_RandSparseInit_RandStructureRef\": {\"type\": \"basernn\", \"trainable\": True, \"pruning\": \"hungarian\", \"optim\": \"adam\", \"init\": \"randsparse\", \"ref\": \"randstructure\"}\n",
    "    \n",
    "    # MLPs\n",
    "    \"Single_MLP\": {\"type\": \"singlemlp\", \"optim\": \"adam\"},\n",
    "    \"Twohidden_MLP\": {\"type\": \"twohiddenmlp\", \"optim\": \"adam\"},\n",
    "    \"Static_MLP\": {\"type\": \"staticmlp\", \"optim\": \"adam\"},\n",
    "    # \"Logistic_Regression\": {\"type\": \"logistic\", \"optim\": \"adam\"},\n",
    "}\n",
    "\n",
    "def get_input_shape(model_type):\n",
    "    return (1, 1, 28, 28) if model_type in [\"cnnrnn\", \"singlemlp\", \"twohiddenmlp\", \"logistic\"] else (1, 28, 28)\n",
    "\n",
    "def prepare_input(data, model):\n",
    "    return data if isinstance(model, CNNRNN) else data.squeeze(1)\n",
    "\n",
    "def train_epoch(model, optimizer, criterion, train_loader, flops_per_sample, cumulative_flops):\n",
    "    model.train()\n",
    "    total_loss, correct, total = 0.0, 0, 0\n",
    "    flops_acc_pairs = []\n",
    "  \n",
    "    with tqdm(train_loader, unit=\"batch\", desc=\"Training\") as pbar:\n",
    "        for batch_idx, (data, target) in enumerate(pbar):\n",
    "            data = prepare_input(data.to(device), model)\n",
    "            target = target.to(device)\n",
    "          \n",
    "            batch_flops = flops_per_sample * data.size(0) * 3\n",
    "            cumulative_flops += batch_flops\n",
    "          \n",
    "            optimizer.zero_grad()\n",
    "            output = model(data)\n",
    "            loss = criterion(output, target)\n",
    "            loss.backward()\n",
    "            optimizer.step()\n",
    "          \n",
    "            total_loss += loss.item() * data.size(0)\n",
    "            pred = output.argmax(dim=1)\n",
    "            correct += pred.eq(target).sum().item()\n",
    "            total += data.size(0)\n",
    "          \n",
    "            if (batch_idx + 1) % 100 == 0:\n",
    "                flops_acc_pairs.append((cumulative_flops, correct/total))\n",
    "          \n",
    "            pbar.set_postfix({\n",
    "                'loss': f\"{loss.item():.4f}\",\n",
    "                'acc': f\"{correct/total:.2%}\",\n",
    "                'FLOPs': f\"{cumulative_flops/1e9:.2f}G\"\n",
    "            })\n",
    "    \n",
    "    # 动态剪枝：每个 epoch 结束后执行\n",
    "    if isinstance(model, BaseRNN) and model.pruning_method == \"hungarian\":\n",
    "        model.apply_hungarian_pruning()\n",
    "    elif isinstance(model, CWSRNN):\n",
    "        model.apply_drosophila_pruning()\n",
    "  \n",
    "    return total_loss/total, correct/total, flops_acc_pairs, cumulative_flops\n",
    "\n",
    "def evaluate(model, test_loader):\n",
    "    model.eval()\n",
    "    correct, total = 0, 0\n",
    "    activations_list = []\n",
    "    with torch.no_grad():\n",
    "        for data, target in test_loader:\n",
    "            data = prepare_input(data.to(device), model)\n",
    "            target = target.to(device)\n",
    "            \n",
    "            if isinstance(model, (BaseRNN, CWSRNN)):\n",
    "                batch_size = data.size(0)\n",
    "                r_t = torch.zeros(batch_size, model.hidden_size, device=device)\n",
    "                act_list = []\n",
    "                \n",
    "                E_t = model.input_to_hidden(data.view(batch_size, -1))\n",
    "                W_eff = model.W if isinstance(model, BaseRNN) else (model.C * model.W * model.s.unsqueeze(1))\n",
    "                r_t = torch.relu(r_t @ W_eff + E_t + r_t)\n",
    "                act_list.append(r_t)\n",
    "                \n",
    "                zero_input = torch.zeros(batch_size, model.input_size, device=device)\n",
    "                for _ in range(9):\n",
    "                    E_t = model.input_to_hidden(zero_input)\n",
    "                    r_t = torch.relu(r_t @ W_eff + E_t + r_t)\n",
    "                    act_list.append(r_t)\n",
    "                \n",
    "                batch_activations = torch.stack(act_list, dim=0)\n",
    "                batch_mean_activations = batch_activations.mean(dim=1)\n",
    "                activations_list.append(batch_mean_activations)\n",
    "                \n",
    "                output = model.hidden_to_output(r_t)\n",
    "            else:\n",
    "                output = model(data)\n",
    "            \n",
    "            correct += output.argmax(dim=1).eq(target).sum().item()\n",
    "            total += target.size(0)\n",
    "    \n",
    "    if activations_list:\n",
    "        activations = torch.stack(activations_list, dim=0).mean(dim=0).cpu().numpy()\n",
    "    else:\n",
    "        activations = None\n",
    "    \n",
    "    return correct / total, activations\n",
    "\n",
    "def train_experiment(exp_id, config):\n",
    "    transform = transforms.Compose([transforms.ToTensor(), transforms.Normalize((0.1307,), (0.3081,))])\n",
    "    train_set = datasets.MNIST('./data', train=True, download=True, transform=transform)\n",
    "    test_set = datasets.MNIST('./data', train=False, transform=transform)\n",
    "    \n",
    "    if config.get(\"fewshot\", False):\n",
    "        num_classes = 10\n",
    "        samples_per_class = int(len(train_set) * 0.05 / num_classes)\n",
    "        indices = []\n",
    "        targets = np.array(train_set.targets)\n",
    "        \n",
    "        for cls in range(num_classes):\n",
    "            cls_indices = np.where(targets == cls)[0]\n",
    "            sampled_indices = np.random.choice(cls_indices, samples_per_class, replace=False)\n",
    "            indices.extend(sampled_indices)\n",
    "        \n",
    "        train_set = torch.utils.data.Subset(train_set, indices)\n",
    "        print(f\"Few-shot training set size: {len(train_set)} samples\")\n",
    "    \n",
    "    train_loader = torch.utils.data.DataLoader(train_set, batch_size=64, shuffle=True)\n",
    "    test_loader = torch.utils.data.DataLoader(test_set, batch_size=256, shuffle=False)\n",
    "  \n",
    "    non_zero = None\n",
    "    csv_path = './data/signed_connectivity_matrix.csv' if signed else './data/ad_connectivity_matrix.csv'\n",
    "    if config.get('pruning') == 'drosophila':\n",
    "        W_droso, non_zero = load_drosophila_matrix(csv_path, apply_pruning=True, signed=signed)\n",
    "    else:\n",
    "        W_droso = load_drosophila_matrix(csv_path, apply_pruning=False, signed=signed)\n",
    "  \n",
    "  \n",
    "    W_init = None\n",
    "    if config.get('init') == 'random':\n",
    "        W_init = torch.randn(W_droso.shape[0], W_droso.shape[0])\n",
    "    elif config.get('init') == 'droso':\n",
    "        W_init = W_droso\n",
    "    elif config.get('init') == 'randsparse':\n",
    "        non_zero_count = np.count_nonzero(W_droso)\n",
    "        total_elements = W_droso.size\n",
    "        mask = torch.zeros(W_droso.shape, dtype=torch.float32)\n",
    "        indices = torch.randperm(total_elements)[:non_zero_count]\n",
    "        mask.view(-1)[indices] = 1\n",
    "        W_init = torch.randn(W_droso.shape) * mask\n",
    "    elif config.get('init') == 'randstructure':\n",
    "        mask = (torch.tensor(W_droso) != 0).float()\n",
    "        W_init = torch.randn(W_droso.shape) * mask\n",
    "    else:\n",
    "        W_init = W_droso if not config.get('trainable', True) else None\n",
    "  \n",
    "    W_ref = None\n",
    "    if config.get('ref') == 'droso':\n",
    "        W_ref = W_droso\n",
    "    elif config.get('ref') == 'randsparse':\n",
    "        non_zero_count = np.count_nonzero(W_droso)\n",
    "        total_elements = W_droso.size\n",
    "        mask = torch.zeros(W_droso.shape, dtype=torch.float32)\n",
    "        indices = torch.randperm(total_elements)[:non_zero_count]\n",
    "        mask.view(-1)[indices] = 1\n",
    "        W_ref = torch.randn(W_droso.shape) * mask\n",
    "    elif config.get('ref') == 'randstructure':\n",
    "        mask = (torch.tensor(W_droso) != 0).float()\n",
    "        W_ref = torch.randn(W_droso.shape) * mask\n",
    "  \n",
    "    if config['type'] == 'basernn':\n",
    "        model = BaseRNN(\n",
    "            784, W_droso.shape[0], 10,\n",
    "            W_init=W_init,\n",
    "            W_ref=W_ref,\n",
    "            trainable=config['trainable'],\n",
    "            pruning_method=config.get('pruning')\n",
    "        )\n",
    "    elif config['type'] == 'cwsrnn':\n",
    "        model = CWSRNN(\n",
    "            784, W_droso.shape[0], 10, W_droso,\n",
    "            train_W=config['train_W'],\n",
    "            train_C=config.get('train_C', False),\n",
    "            non_zero_count=non_zero if config.get('pruning') == 'drosophila' else None\n",
    "        )\n",
    "    elif config['type'] == 'cnnrnn':\n",
    "        model = CNNRNN(torch.tensor(W_droso))\n",
    "    elif config['type'] == 'singlemlp':\n",
    "        model = SingleMLP(784, W_droso.shape[0], 10)\n",
    "    elif config['type'] == 'twohiddenmlp':\n",
    "        model = TwohiddenMLP(784, 1360, 10)\n",
    "    elif config['type'] == 'staticmlp':\n",
    "        model = StaticMLP(784, 1360, 10)\n",
    "    elif config['type'] == 'logistic':\n",
    "        model = LogisticRegression(784, 10)\n",
    "    model.to(device)\n",
    "  \n",
    "    if config['optim'] == 'adam':\n",
    "        optimizer = optim.Adam(model.parameters(), lr=1e-5)\n",
    "    else:\n",
    "        optimizer = FISTAOptimizer(model.parameters(), lr=1e-3, lambda_l1=1e-5)\n",
    "  \n",
    "    input_shape = get_input_shape(config['type'])\n",
    "    dummy_input = torch.randn(input_shape).to(device)\n",
    "    macs, _ = profile(model, inputs=(dummy_input,))\n",
    "    flops_forward = macs * 2\n",
    "\n",
    "    results = {\n",
    "        \"epoch_train_loss\": [], \"epoch_train_acc\": [],\n",
    "        \"epoch_test_acc\": [], \"flops_acc\": [],\n",
    "        \"total_flops\": 0, \"activations\": None\n",
    "    }\n",
    "    cumulative_flops = 0\n",
    "    criterion = nn.CrossEntropyLoss()\n",
    "  \n",
    "    for epoch in range(10):\n",
    "        epoch_loss, epoch_acc, flops_pairs, cumulative_flops = train_epoch(\n",
    "            model, optimizer, criterion, train_loader, flops_forward, cumulative_flops\n",
    "        )\n",
    "        test_acc, activations = evaluate(model, test_loader)\n",
    "      \n",
    "        results[\"epoch_train_loss\"].append(epoch_loss)\n",
    "        results[\"epoch_train_acc\"].append(epoch_acc)\n",
    "        results[\"epoch_test_acc\"].append(test_acc)\n",
    "        results[\"flops_acc\"].extend(flops_pairs)\n",
    "        results[\"activations\"] = activations\n",
    "        print(f\"Epoch {epoch+1} | Test Acc: {test_acc:.2%}\")\n",
    "  \n",
    "    results[\"total_flops\"] = cumulative_flops\n",
    "    filename = f\"{exp_id}.signed.pkl\" if signed else f\"{exp_id}.pkl\"\n",
    "    with open(filename, \"wb\") as f:\n",
    "        pickle.dump(results, f)\n",
    "\n",
    "if __name__ == \"__main__\":\n",
    "    for exp_id, config in experiments.items():\n",
    "        print(f\"\\n{'='*30}\\nTraining {exp_id}\\n{'='*30}\")\n",
    "        train_experiment(exp_id, config)"
   ]
  },
  {
   "cell_type": "code",
   "execution_count": null,
   "metadata": {},
   "outputs": [],
   "source": []
  }
 ],
 "metadata": {
  "kernelspec": {
   "display_name": "cuda_env",
   "language": "python",
   "name": "python3"
  },
  "language_info": {
   "codemirror_mode": {
    "name": "ipython",
    "version": 3
   },
   "file_extension": ".py",
   "mimetype": "text/x-python",
   "name": "python",
   "nbconvert_exporter": "python",
   "pygments_lexer": "ipython3",
   "version": "3.11.5"
  }
 },
 "nbformat": 4,
 "nbformat_minor": 2
}
