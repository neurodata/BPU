{
 "cells": [
  {
   "cell_type": "code",
   "id": "initial_id",
   "metadata": {
    "collapsed": true,
    "ExecuteTime": {
     "end_time": "2025-04-12T02:47:13.283426Z",
     "start_time": "2025-04-12T02:47:13.279287Z"
    }
   },
   "source": [
    "import pickle\n",
    "\n",
    "with open(\"results-chess/DPU_Base_Unlearnable_2560000_trial1_5Timesteps-signed/record.pkl\", \"rb\") as f:\n",
    "    record = pickle.load(f)\n",
    "\n",
    "print(record)"
   ],
   "outputs": [
    {
     "name": "stdout",
     "output_type": "stream",
     "text": [
      "{'epoch_train_loss': [0.565539127522707, 0.5553374998390674, 0.5533338081657887, 0.5521334435582161, 0.5512469268888235, 0.5506228479862213, 0.5500530147463083, 0.5496285129874945, 0.549239056444168, 0.5488683621704579], 'epoch_test_loss': [0.7323903621459494, 0.5709020772758795, 0.5682720829029473, 0.5675782408033099, 0.5674717925032791, 0.5654243848761734, 0.5659116438456944, 0.5651283804251224, 0.5648901173046657, 0.564431537657368, 0.5640052189632337]}\n"
     ]
    }
   ],
   "execution_count": 1
  },
  {
   "metadata": {},
   "cell_type": "code",
   "outputs": [],
   "execution_count": null,
   "source": "",
   "id": "6fb0ce27fdc3e43d"
  }
 ],
 "metadata": {
  "kernelspec": {
   "display_name": "Python 3",
   "language": "python",
   "name": "python3"
  },
  "language_info": {
   "codemirror_mode": {
    "name": "ipython",
    "version": 2
   },
   "file_extension": ".py",
   "mimetype": "text/x-python",
   "name": "python",
   "nbconvert_exporter": "python",
   "pygments_lexer": "ipython2",
   "version": "2.7.6"
  }
 },
 "nbformat": 4,
 "nbformat_minor": 5
}
