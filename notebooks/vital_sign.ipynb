{
 "cells": [
  {
   "cell_type": "code",
   "execution_count": null,
   "metadata": {},
   "outputs": [
    {
     "name": "stdout",
     "output_type": "stream",
     "text": [
      "True sign count: 1923 (65.14%)\n",
      "False sign count: 1029 (34.86%)\n"
     ]
    }
   ],
   "source": [
    "import pandas as pd\n",
    "\n",
    "df = pd.read_csv(\"./data/sign_VGG.csv\")\n",
    "\n",
    "df[\"sign\"] = df[\"sign\"].astype(str).str.lower() == \"true\"\n",
    "\n",
    "true_count = df[\"sign\"].sum()\n",
    "false_count = len(df) - true_count\n",
    "total_count = len(df)\n",
    "\n",
    "true_percentage = (true_count / total_count) * 100\n",
    "false_percentage = (false_count / total_count) * 100\n",
    "\n",
    "print(f\"True sign count: {true_count} ({true_percentage:.2f}%)\")\n",
    "print(f\"False sign count: {false_count} ({false_percentage:.2f}%)\")\n"
   ]
  },
  {
   "cell_type": "code",
   "execution_count": null,
   "metadata": {},
   "outputs": [
    {
     "name": "stdout",
     "output_type": "stream",
     "text": [
      "修正后的有符号连接矩阵已保存为 'signed_connectivity_matrix.csv'.\n"
     ]
    }
   ],
   "source": [
    "import pandas as pd\n",
    "import numpy as np\n",
    "\n",
    "sign_df = pd.read_csv(\"./data/sign_VGG.csv\")\n",
    "\n",
    "sign_dict = {row[\"skid\"]: 1 if str(row[\"sign\"]).strip().lower() == \"true\" else -1 for _, row in sign_df.iterrows()}\n",
    "\n",
    "conn_matrix_df = pd.read_csv(\"./data/ad_connectivity_matrix.csv\", index_col=0)\n",
    "\n",
    "conn_matrix_df.index = conn_matrix_df.index.astype(int)\n",
    "conn_matrix_df.columns = conn_matrix_df.columns.astype(int)\n",
    "\n",
    "presynaptic_skids = conn_matrix_df.index.to_numpy()  # 获取所有 presynaptic neuron IDs\n",
    "sign_vector = np.array([sign_dict.get(skid, 1) for skid in presynaptic_skids])  # 映射 sign（默认 1）\n",
    "\n",
    "conn_matrix_np = conn_matrix_df.to_numpy()\n",
    "\n",
    "conn_matrix_np = np.where(conn_matrix_np != 0, conn_matrix_np * sign_vector[:, np.newaxis], conn_matrix_np)\n",
    "\n",
    "signed_matrix_df = pd.DataFrame(conn_matrix_np, index=conn_matrix_df.index, columns=conn_matrix_df.columns)\n",
    "signed_matrix_df.to_csv(\"./data/signed_connectivity_matrix.csv\")\n",
    "\n",
    "print(\"saved as 'signed_connectivity_matrix.csv'.\")\n",
    "\n"
   ]
  }
 ],
 "metadata": {
  "kernelspec": {
   "display_name": "rnn_fly_env",
   "language": "python",
   "name": "python3"
  },
  "language_info": {
   "codemirror_mode": {
    "name": "ipython",
    "version": 3
   },
   "file_extension": ".py",
   "mimetype": "text/x-python",
   "name": "python",
   "nbconvert_exporter": "python",
   "pygments_lexer": "ipython3",
   "version": "3.9.21"
  }
 },
 "nbformat": 4,
 "nbformat_minor": 2
}
