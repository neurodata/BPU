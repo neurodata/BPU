{
 "cells": [
  {
   "cell_type": "code",
   "execution_count": null,
   "metadata": {},
   "outputs": [
    {
     "name": "stdout",
     "output_type": "stream",
     "text": [
      "Using device: cuda\n"
     ]
    },
    {
     "name": "stderr",
     "output_type": "stream",
     "text": [
      "Training [drosophila_origin] Epoch 1/5: 100%|██████████| 938/938 [01:06<00:00, 14.04batch/s, accuracy=50.7, loss=1.11] \n"
     ]
    },
    {
     "name": "stdout",
     "output_type": "stream",
     "text": [
      "Epoch 1/5, Loss: 1.5247, Accuracy: 0.5068\n"
     ]
    },
    {
     "name": "stderr",
     "output_type": "stream",
     "text": [
      "Training [drosophila_origin] Epoch 2/5: 100%|██████████| 938/938 [01:21<00:00, 11.55batch/s, accuracy=71.2, loss=0.925]\n"
     ]
    },
    {
     "name": "stdout",
     "output_type": "stream",
     "text": [
      "Epoch 2/5, Loss: 0.9766, Accuracy: 0.7116\n"
     ]
    },
    {
     "name": "stderr",
     "output_type": "stream",
     "text": [
      "Training [drosophila_origin] Epoch 3/5: 100%|██████████| 938/938 [01:20<00:00, 11.68batch/s, accuracy=77.4, loss=0.534]\n"
     ]
    },
    {
     "name": "stdout",
     "output_type": "stream",
     "text": [
      "Epoch 3/5, Loss: 0.7925, Accuracy: 0.7738\n"
     ]
    },
    {
     "name": "stderr",
     "output_type": "stream",
     "text": [
      "Training [drosophila_origin] Epoch 4/5: 100%|██████████| 938/938 [01:20<00:00, 11.63batch/s, accuracy=80.6, loss=0.465]\n"
     ]
    },
    {
     "name": "stdout",
     "output_type": "stream",
     "text": [
      "Epoch 4/5, Loss: 0.6866, Accuracy: 0.8063\n"
     ]
    },
    {
     "name": "stderr",
     "output_type": "stream",
     "text": [
      "Training [drosophila_origin] Epoch 5/5: 100%|██████████| 938/938 [01:18<00:00, 11.97batch/s, accuracy=82.6, loss=0.314]\n"
     ]
    },
    {
     "name": "stdout",
     "output_type": "stream",
     "text": [
      "Epoch 5/5, Loss: 0.6182, Accuracy: 0.8262\n",
      "[drosophila_origin] Test Accuracy: 0.8407\n"
     ]
    },
    {
     "data": {
      "text/plain": [
       "{'train_accuracies': [0.5068166666666667,\n",
       "  0.7116333333333333,\n",
       "  0.7738,\n",
       "  0.8063,\n",
       "  0.8262166666666667],\n",
       " 'test_accuracy': 0.8407,\n",
       " 'tag': 'drosophila_origin'}"
      ]
     },
     "execution_count": 4,
     "metadata": {},
     "output_type": "execute_result"
    }
   ],
   "source": [
    "import pandas as pd\n",
    "import numpy as np\n",
    "import matplotlib.pyplot as plt\n",
    "\n",
    "import torch\n",
    "import torch.nn as nn\n",
    "import torch.optim as optim\n",
    "import torchvision\n",
    "import torchvision.transforms as transforms\n",
    "from tqdm import tqdm\n",
    "import pickle\n",
    "\n",
    "csv_path = './data/ad_connectivity_matrix.csv'\n",
    "W_df = pd.read_csv(csv_path, index_col=0, header=0)\n",
    "\n",
    "W = W_df.values.astype(np.float32)\n",
    "\n",
    "# Min-max normalization so entire matrix is in [0, 1]\n",
    "W_min = W.min()\n",
    "W_max = W.max()\n",
    "W = (W - W_min) / (W_max - W_min + 1e-8)\n",
    "\n",
    "class DrosophilaRNN(nn.Module):\n",
    "    def __init__(self, input_size, hidden_size, output_size, W_matrix):\n",
    "        super(DrosophilaRNN, self).__init__()\n",
    "        # Map input -> hidden\n",
    "        self.input_to_hidden = nn.Linear(input_size, hidden_size, bias=True)\n",
    "        # Map hidden -> output\n",
    "        self.hidden_to_output = nn.Linear(hidden_size, output_size, bias=True)\n",
    "        # for trainable W use nn.Parameter\n",
    "        self.register_buffer(\"W_matrix\", nn.Parameter(\n",
    "            torch.tensor(W_matrix*1e-5, dtype=torch.float32)\n",
    "        ))\n",
    "        # self.W_matrix = torch.tensor(W_matrix, dtype=torch.float32)\n",
    "        self.hidden_size = hidden_size\n",
    "\n",
    "    def forward(self, x):\n",
    "        batch_size, time_steps, _ = x.shape\n",
    "        # r(0) = 0\n",
    "        r_t = torch.zeros(batch_size, self.hidden_size, device=x.device)\n",
    "\n",
    "        for t in range(time_steps):\n",
    "            E_t = x[:, t, :]                    # (batch_size, input_size)\n",
    "            E_t_hidden = self.input_to_hidden(E_t)\n",
    "            r_prev = r_t # for residual\n",
    "            \n",
    "            # \n",
    "            r_t = r_t @ self.W_matrix          \n",
    "            r_t = r_t + E_t_hidden + r_prev    # residual/skip\n",
    "            r_t = torch.relu(r_t)\n",
    "\n",
    "        out = self.hidden_to_output(r_t)       # (batch_size, output_size)\n",
    "        return out\n",
    "\n",
    "def load_mnist_data(batch_size=64):\n",
    "    transform = transforms.Compose([\n",
    "    transforms.ToTensor(),\n",
    "    transforms.Normalize((0.1307,), (0.3081,))  # Normalization\n",
    "    ])\n",
    "\n",
    "\n",
    "    train_dataset = torchvision.datasets.MNIST(\n",
    "        root='./data',\n",
    "        train=True,\n",
    "        download=True,\n",
    "        transform=transform\n",
    "    )\n",
    "    test_dataset = torchvision.datasets.MNIST(\n",
    "        root='./data',\n",
    "        train=False,\n",
    "        download=True,\n",
    "        transform=transform\n",
    "    )\n",
    "\n",
    "    batch_size = 64\n",
    "    train_loader = torch.utils.data.DataLoader(train_dataset, batch_size=batch_size, shuffle=True)\n",
    "    test_loader  = torch.utils.data.DataLoader(test_dataset, batch_size=batch_size, shuffle=False)\n",
    "\n",
    "    return train_loader, test_loader\n",
    "\n",
    "def train_model(W, device, num_epochs=10, batch_size=64, tag=\"drosophila\"):\n",
    "\n",
    "    train_loader, test_loader = load_mnist_data(batch_size=batch_size)\n",
    "\n",
    "    input_size = 28\n",
    "    hidden_size = W.shape[0]\n",
    "    output_size = 10\n",
    "    \n",
    "    model = DrosophilaRNN(input_size, hidden_size, output_size, W).to(device)\n",
    "    \n",
    "    criterion = nn.CrossEntropyLoss()\n",
    "    optimizer = optim.Adam(model.parameters(), lr=1e-5)\n",
    "\n",
    "    train_accuracies = []\n",
    "\n",
    "    for epoch in range(num_epochs):\n",
    "        model.train()\n",
    "        running_loss = 0.0\n",
    "        correct = 0\n",
    "        total = 0\n",
    "        \n",
    "        with tqdm(train_loader, unit=\"batch\") as tepoch:\n",
    "            tepoch.set_description(f\"Training [{tag}] Epoch {epoch+1}/{num_epochs}\")\n",
    "            for images, labels in tepoch:\n",
    "                # images shape: (batch_size, 1, 28, 28)\n",
    "                images = images.squeeze(1).to(device)  # -> (batch_size, 28, 28)\n",
    "                labels = labels.to(device)\n",
    "\n",
    "                optimizer.zero_grad()\n",
    "                outputs = model(images)\n",
    "                loss = criterion(outputs, labels)\n",
    "                loss.backward()\n",
    "                optimizer.step()\n",
    "\n",
    "                running_loss += loss.item() * images.size(0)\n",
    "                _, predicted = torch.max(outputs, dim=1)\n",
    "                correct += (predicted == labels).sum().item()\n",
    "                total += labels.size(0)\n",
    "                \n",
    "                tepoch.set_postfix(\n",
    "                    loss=loss.item(), accuracy=100. * correct / total\n",
    "                )\n",
    "\n",
    "        epoch_acc = correct / total\n",
    "        train_accuracies.append(epoch_acc)\n",
    "        print(f\"Epoch {epoch+1}/{num_epochs}, Loss: {running_loss/total:.4f}, \"\n",
    "              f\"Accuracy: {epoch_acc:.4f}\")\n",
    "\n",
    "    model.eval()\n",
    "    test_correct = 0\n",
    "    test_total = 0\n",
    "    with torch.no_grad():\n",
    "        for images, labels in test_loader:\n",
    "            images = images.squeeze(1).to(device)\n",
    "            labels = labels.to(device)\n",
    "            outputs = model(images)\n",
    "            _, predicted = torch.max(outputs, 1)\n",
    "            test_correct += (predicted == labels).sum().item()\n",
    "            test_total += labels.size(0)\n",
    "    test_accuracy = test_correct / test_total\n",
    "    print(f\"[{tag}] Test Accuracy: {test_accuracy:.4f}\")\n",
    "\n",
    "    results = {\n",
    "        'train_accuracies': train_accuracies,\n",
    "        'test_accuracy': test_accuracy,\n",
    "        'tag': tag\n",
    "    }\n",
    "\n",
    "    with open(f'results_{tag}.pkl', 'wb') as f:\n",
    "        pickle.dump(results, f)\n",
    "\n",
    "    return results\n",
    "\n",
    "device = torch.device(\"cuda\" if torch.cuda.is_available() else \"cpu\")\n",
    "print(\"Using device:\", device)\n",
    "\n",
    "size = 2952  \n",
    "\n",
    "train_model(W, device, num_epochs=5, batch_size=64, tag=\"drosophila_origin\")\n",
    "\n",
    "# W_random = torch.randn(size, size)\n",
    "# train_model(W_random, device, num_epochs=3, batch_size=64, tag=\"random_origin\")"
   ]
  },
  {
   "cell_type": "code",
   "execution_count": null,
   "metadata": {},
   "outputs": [
    {
     "name": "stdout",
     "output_type": "stream",
     "text": [
      "Using: cuda\n",
      "[rnn] FLOPs per sample: 4687776.0\n"
     ]
    },
    {
     "name": "stderr",
     "output_type": "stream",
     "text": [
      "Training [drosophila_pruning] Epoch 1/5: 100%|██████████| 938/938 [00:35<00:00, 26.29batch/s, accuracy=0.858, loss=0.252] \n"
     ]
    },
    {
     "name": "stdout",
     "output_type": "stream",
     "text": [
      "rnn Epoch 1/5: Loss = 0.5047, Accuracy = 85.82%\n"
     ]
    },
    {
     "name": "stderr",
     "output_type": "stream",
     "text": [
      "Training [drosophila_pruning] Epoch 2/5: 100%|██████████| 938/938 [00:35<00:00, 26.30batch/s, accuracy=0.954, loss=0.0524] \n"
     ]
    },
    {
     "name": "stdout",
     "output_type": "stream",
     "text": [
      "rnn Epoch 2/5: Loss = 0.1526, Accuracy = 95.36%\n"
     ]
    },
    {
     "name": "stderr",
     "output_type": "stream",
     "text": [
      "Training [drosophila_pruning] Epoch 3/5: 100%|██████████| 938/938 [00:35<00:00, 26.24batch/s, accuracy=0.972, loss=0.0888] \n"
     ]
    },
    {
     "name": "stdout",
     "output_type": "stream",
     "text": [
      "rnn Epoch 3/5: Loss = 0.0907, Accuracy = 97.19%\n"
     ]
    },
    {
     "name": "stderr",
     "output_type": "stream",
     "text": [
      "Training [drosophila_pruning] Epoch 4/5: 100%|██████████| 938/938 [00:35<00:00, 26.39batch/s, accuracy=0.979, loss=0.125]  \n"
     ]
    },
    {
     "name": "stdout",
     "output_type": "stream",
     "text": [
      "rnn Epoch 4/5: Loss = 0.0665, Accuracy = 97.93%\n"
     ]
    },
    {
     "name": "stderr",
     "output_type": "stream",
     "text": [
      "Training [drosophila_pruning] Epoch 5/5: 100%|██████████| 938/938 [00:35<00:00, 26.42batch/s, accuracy=0.984, loss=0.0415]  \n"
     ]
    },
    {
     "name": "stdout",
     "output_type": "stream",
     "text": [
      "rnn Epoch 5/5: Loss = 0.0509, Accuracy = 98.42%\n",
      "[rnn] FLOPs per sample: 4687776.0\n"
     ]
    },
    {
     "name": "stderr",
     "output_type": "stream",
     "text": [
      "Training [drosophila_pruning] Epoch 1/5: 100%|██████████| 938/938 [00:35<00:00, 26.34batch/s, accuracy=0.858, loss=0.382] \n"
     ]
    },
    {
     "name": "stdout",
     "output_type": "stream",
     "text": [
      "rnn Epoch 1/5: Loss = 0.4998, Accuracy = 85.78%\n"
     ]
    },
    {
     "name": "stderr",
     "output_type": "stream",
     "text": [
      "Training [drosophila_pruning] Epoch 2/5: 100%|██████████| 938/938 [00:35<00:00, 26.41batch/s, accuracy=0.955, loss=0.142] \n"
     ]
    },
    {
     "name": "stdout",
     "output_type": "stream",
     "text": [
      "rnn Epoch 2/5: Loss = 0.1482, Accuracy = 95.54%\n"
     ]
    },
    {
     "name": "stderr",
     "output_type": "stream",
     "text": [
      "Training [drosophila_pruning] Epoch 3/5: 100%|██████████| 938/938 [00:35<00:00, 26.55batch/s, accuracy=0.971, loss=0.002]  \n"
     ]
    },
    {
     "name": "stdout",
     "output_type": "stream",
     "text": [
      "rnn Epoch 3/5: Loss = 0.0910, Accuracy = 97.11%\n"
     ]
    },
    {
     "name": "stderr",
     "output_type": "stream",
     "text": [
      "Training [drosophila_pruning] Epoch 4/5: 100%|██████████| 938/938 [00:35<00:00, 26.56batch/s, accuracy=0.979, loss=0.00935] \n"
     ]
    },
    {
     "name": "stdout",
     "output_type": "stream",
     "text": [
      "rnn Epoch 4/5: Loss = 0.0659, Accuracy = 97.92%\n"
     ]
    },
    {
     "name": "stderr",
     "output_type": "stream",
     "text": [
      "Training [drosophila_pruning] Epoch 5/5: 100%|██████████| 938/938 [00:35<00:00, 26.33batch/s, accuracy=0.984, loss=0.113]   \n"
     ]
    },
    {
     "name": "stdout",
     "output_type": "stream",
     "text": [
      "rnn Epoch 5/5: Loss = 0.0529, Accuracy = 98.39%\n",
      "[rnn] FLOPs per sample: 4687776.0\n"
     ]
    },
    {
     "name": "stderr",
     "output_type": "stream",
     "text": [
      "Training [drosophila_pruning] Epoch 1/5: 100%|██████████| 938/938 [00:35<00:00, 26.43batch/s, accuracy=0.853, loss=0.201] \n"
     ]
    },
    {
     "name": "stdout",
     "output_type": "stream",
     "text": [
      "rnn Epoch 1/5: Loss = 0.5324, Accuracy = 85.31%\n"
     ]
    },
    {
     "name": "stderr",
     "output_type": "stream",
     "text": [
      "Training [drosophila_pruning] Epoch 2/5: 100%|██████████| 938/938 [00:34<00:00, 27.32batch/s, accuracy=0.954, loss=0.032]  \n"
     ]
    },
    {
     "name": "stdout",
     "output_type": "stream",
     "text": [
      "rnn Epoch 2/5: Loss = 0.1474, Accuracy = 95.41%\n"
     ]
    },
    {
     "name": "stderr",
     "output_type": "stream",
     "text": [
      "Training [drosophila_pruning] Epoch 3/5: 100%|██████████| 938/938 [00:35<00:00, 26.69batch/s, accuracy=0.97, loss=0.168]   \n"
     ]
    },
    {
     "name": "stdout",
     "output_type": "stream",
     "text": [
      "rnn Epoch 3/5: Loss = 0.0928, Accuracy = 97.04%\n"
     ]
    },
    {
     "name": "stderr",
     "output_type": "stream",
     "text": [
      "Training [drosophila_pruning] Epoch 4/5: 100%|██████████| 938/938 [00:34<00:00, 26.84batch/s, accuracy=0.979, loss=0.187]  \n"
     ]
    },
    {
     "name": "stdout",
     "output_type": "stream",
     "text": [
      "rnn Epoch 4/5: Loss = 0.0673, Accuracy = 97.92%\n"
     ]
    },
    {
     "name": "stderr",
     "output_type": "stream",
     "text": [
      "Training [drosophila_pruning] Epoch 5/5: 100%|██████████| 938/938 [00:35<00:00, 26.80batch/s, accuracy=0.984, loss=0.0159]  \n"
     ]
    },
    {
     "name": "stdout",
     "output_type": "stream",
     "text": [
      "rnn Epoch 5/5: Loss = 0.0516, Accuracy = 98.39%\n",
      "[rnn] FLOPs per sample: 4687776.0\n"
     ]
    },
    {
     "name": "stderr",
     "output_type": "stream",
     "text": [
      "Training [drosophila_pruning] Epoch 1/5: 100%|██████████| 938/938 [00:32<00:00, 28.44batch/s, accuracy=0.854, loss=0.137] \n"
     ]
    },
    {
     "name": "stdout",
     "output_type": "stream",
     "text": [
      "rnn Epoch 1/5: Loss = 0.5388, Accuracy = 85.38%\n"
     ]
    },
    {
     "name": "stderr",
     "output_type": "stream",
     "text": [
      "Training [drosophila_pruning] Epoch 2/5: 100%|██████████| 938/938 [00:35<00:00, 26.48batch/s, accuracy=0.955, loss=0.228]  \n"
     ]
    },
    {
     "name": "stdout",
     "output_type": "stream",
     "text": [
      "rnn Epoch 2/5: Loss = 0.1471, Accuracy = 95.47%\n"
     ]
    },
    {
     "name": "stderr",
     "output_type": "stream",
     "text": [
      "Training [drosophila_pruning] Epoch 3/5: 100%|██████████| 938/938 [00:35<00:00, 26.43batch/s, accuracy=0.971, loss=0.00167]\n"
     ]
    },
    {
     "name": "stdout",
     "output_type": "stream",
     "text": [
      "rnn Epoch 3/5: Loss = 0.0949, Accuracy = 97.07%\n"
     ]
    },
    {
     "name": "stderr",
     "output_type": "stream",
     "text": [
      "Training [drosophila_pruning] Epoch 4/5: 100%|██████████| 938/938 [00:35<00:00, 26.55batch/s, accuracy=0.979, loss=0.00577]\n"
     ]
    },
    {
     "name": "stdout",
     "output_type": "stream",
     "text": [
      "rnn Epoch 4/5: Loss = 0.0677, Accuracy = 97.93%\n"
     ]
    },
    {
     "name": "stderr",
     "output_type": "stream",
     "text": [
      "Training [drosophila_pruning] Epoch 5/5: 100%|██████████| 938/938 [00:35<00:00, 26.34batch/s, accuracy=0.985, loss=0.0213]  \n"
     ]
    },
    {
     "name": "stdout",
     "output_type": "stream",
     "text": [
      "rnn Epoch 5/5: Loss = 0.0516, Accuracy = 98.45%\n"
     ]
    },
    {
     "ename": "TypeError",
     "evalue": "train_model() missing 1 required positional argument: 'target_nonzero_count'",
     "output_type": "error",
     "traceback": [
      "\u001b[0;31m---------------------------------------------------------------------------\u001b[0m",
      "\u001b[0;31mTypeError\u001b[0m                                 Traceback (most recent call last)",
      "Cell \u001b[0;32mIn[3], line 233\u001b[0m\n\u001b[1;32m    231\u001b[0m model_perc \u001b[38;5;241m=\u001b[39m Perceptron(input_dim\u001b[38;5;241m=\u001b[39m\u001b[38;5;241m28\u001b[39m\u001b[38;5;241m*\u001b[39m\u001b[38;5;241m28\u001b[39m, hidden_dim\u001b[38;5;241m=\u001b[39m\u001b[38;5;241m100\u001b[39m, output_dim\u001b[38;5;241m=\u001b[39m\u001b[38;5;241m10\u001b[39m)\u001b[38;5;241m.\u001b[39mto(device)\n\u001b[1;32m    232\u001b[0m optimizer_perc \u001b[38;5;241m=\u001b[39m optim\u001b[38;5;241m.\u001b[39mAdam(model_perc\u001b[38;5;241m.\u001b[39mparameters(), lr\u001b[38;5;241m=\u001b[39m\u001b[38;5;241m1e-3\u001b[39m)\n\u001b[0;32m--> 233\u001b[0m results_perc \u001b[38;5;241m=\u001b[39m \u001b[43mtrain_model\u001b[49m\u001b[43m(\u001b[49m\u001b[43mmodel_perc\u001b[49m\u001b[43m,\u001b[49m\u001b[43m \u001b[49m\u001b[43mmodel_type\u001b[49m\u001b[38;5;241;43m=\u001b[39;49m\u001b[38;5;124;43m'\u001b[39;49m\u001b[38;5;124;43mfc\u001b[39;49m\u001b[38;5;124;43m'\u001b[39;49m\u001b[43m,\u001b[49m\u001b[43m \u001b[49m\u001b[43moptimizer\u001b[49m\u001b[38;5;241;43m=\u001b[39;49m\u001b[43moptimizer_perc\u001b[49m\u001b[43m,\u001b[49m\u001b[43m \u001b[49m\u001b[43mnum_epochs\u001b[49m\u001b[38;5;241;43m=\u001b[39;49m\u001b[43mnepochs\u001b[49m\u001b[43m,\u001b[49m\n\u001b[1;32m    234\u001b[0m \u001b[43m                           \u001b[49m\u001b[43mrecord_interval\u001b[49m\u001b[38;5;241;43m=\u001b[39;49m\u001b[38;5;241;43m100\u001b[39;49m\u001b[43m,\u001b[49m\u001b[43m \u001b[49m\u001b[43mdevice\u001b[49m\u001b[38;5;241;43m=\u001b[39;49m\u001b[43mdevice\u001b[49m\u001b[43m,\u001b[49m\u001b[43m \u001b[49m\u001b[43mtrain_loader\u001b[49m\u001b[38;5;241;43m=\u001b[39;49m\u001b[43mtrain_loader\u001b[49m\u001b[43m,\u001b[49m\u001b[43m \u001b[49m\u001b[43mdummy_input_shape\u001b[49m\u001b[38;5;241;43m=\u001b[39;49m\u001b[43m(\u001b[49m\u001b[38;5;241;43m1\u001b[39;49m\u001b[43m,\u001b[49m\u001b[38;5;241;43m28\u001b[39;49m\u001b[38;5;241;43m*\u001b[39;49m\u001b[38;5;241;43m28\u001b[39;49m\u001b[43m)\u001b[49m\u001b[43m,\u001b[49m\u001b[43m \u001b[49m\u001b[43mtag\u001b[49m\u001b[38;5;241;43m=\u001b[39;49m\u001b[43mtag\u001b[49m\u001b[43m)\u001b[49m\n\u001b[1;32m    236\u001b[0m \u001b[38;5;66;03m# Logistic Regression model for comparison\u001b[39;00m\n\u001b[1;32m    237\u001b[0m model_logreg \u001b[38;5;241m=\u001b[39m LogisticRegression(input_dim\u001b[38;5;241m=\u001b[39m\u001b[38;5;241m28\u001b[39m\u001b[38;5;241m*\u001b[39m\u001b[38;5;241m28\u001b[39m, output_dim\u001b[38;5;241m=\u001b[39m\u001b[38;5;241m10\u001b[39m)\u001b[38;5;241m.\u001b[39mto(device)\n",
      "\u001b[0;31mTypeError\u001b[0m: train_model() missing 1 required positional argument: 'target_nonzero_count'"
     ]
    }
   ],
   "source": [
    "import pandas as pd\n",
    "import numpy as np\n",
    "import matplotlib.pyplot as plt\n",
    "import pickle\n",
    "\n",
    "import torch\n",
    "import torch.nn as nn\n",
    "import torch.optim as optim\n",
    "import torchvision\n",
    "import torchvision.transforms as transforms\n",
    "from tqdm import tqdm\n",
    "from thop import profile  \n",
    "\n",
    "# Load and preprocess the connectivity matrix\n",
    "csv_path = './data/ad_connectivity_matrix.csv'\n",
    "W_df = pd.read_csv(csv_path, index_col=0, header=0)\n",
    "W = W_df.values.astype(np.float32)\n",
    "W_min = W.min()\n",
    "W_max = W.max()\n",
    "W = (W - W_min) / (W_max - W_min + 1e-8)\n",
    "\n",
    "class Perceptron(nn.Module):\n",
    "    def __init__(self, input_dim, hidden_dim, output_dim):\n",
    "        super(Perceptron, self).__init__()\n",
    "        self.fc1 = nn.Linear(input_dim, hidden_dim)\n",
    "        self.relu = nn.ReLU()\n",
    "        self.fc2 = nn.Linear(hidden_dim, output_dim)\n",
    "    \n",
    "    def forward(self, x):\n",
    "        out = self.fc1(x)\n",
    "        out = self.relu(out)\n",
    "        out = self.fc2(out)\n",
    "        return out\n",
    "\n",
    "class LogisticRegression(nn.Module):\n",
    "    def __init__(self, input_dim, output_dim):\n",
    "        super(LogisticRegression, self).__init__()\n",
    "        self.fc = nn.Linear(input_dim, output_dim)\n",
    "    \n",
    "    def forward(self, x):\n",
    "        out = self.fc(x)\n",
    "        return out\n",
    "    \n",
    "# 修改模型初始化时，将 C 定义为不可训练的\n",
    "class FruitFlyRNN(nn.Module):\n",
    "    def __init__(self, input_size, hidden_size, output_size, W_matrix, pos_ratio=0.7, is_pruned=False):\n",
    "        super(FruitFlyRNN, self).__init__()\n",
    "        self.input_to_hidden = nn.Linear(input_size, hidden_size, bias=True)\n",
    "        self.hidden_to_output = nn.Linear(hidden_size, output_size, bias=True)\n",
    "\n",
    "        self.hidden_size = hidden_size\n",
    "        self.is_pruned = is_pruned  # Flag for pruning\n",
    "\n",
    "        # --- 1) Make C trainable, initialized as all ones ---\n",
    "        self.C = nn.Parameter(torch.ones(hidden_size, hidden_size))  # Initialize C as all ones\n",
    "\n",
    "        # --- 2) W: Learnable weight matrix ---\n",
    "        self.W = nn.Parameter(torch.tensor(W_matrix, dtype=torch.float32) * 0.001)\n",
    "\n",
    "        # --- 3) s: Sign vector, freeze 70% +1 and 30% -1 ---\n",
    "        num_pos = int(pos_ratio * hidden_size)\n",
    "        num_neg = hidden_size - num_pos\n",
    "        sign_array = np.array([1]*num_pos + [-1]*num_neg, dtype=np.float32)\n",
    "        np.random.shuffle(sign_array)\n",
    "        s_tensor = torch.tensor(sign_array)\n",
    "        self.register_buffer(\"s\", s_tensor)  # not trainable\n",
    "\n",
    "        # Freeze C after each pruning to maintain sparsity\n",
    "        self.C.requires_grad = False  # Freeze C so it doesn't update with gradients\n",
    "\n",
    "    def forward(self, x):\n",
    "        batch_size, time_steps, _ = x.shape\n",
    "\n",
    "        # hidden state\n",
    "        r_t = torch.zeros(batch_size, self.hidden_size, device=x.device)\n",
    "\n",
    "        # Build W_fly = (C * W) * s (row-wise multiply)\n",
    "        W_fly = self.C * self.W\n",
    "        W_fly = W_fly * self.s.unsqueeze(1)  # shape [hidden_size, hidden_size]\n",
    "\n",
    "        for t in range(time_steps):\n",
    "            E_t = x[:, t, :]  # (batch, input_size)\n",
    "            E_t_hidden = self.input_to_hidden(E_t)\n",
    "            r_prev = r_t\n",
    "            r_t = r_t @ W_fly\n",
    "            r_t = r_t + E_t_hidden\n",
    "            r_t = r_t + r_prev  # residual connection\n",
    "            r_t = torch.relu(r_t)\n",
    "\n",
    "        out = self.hidden_to_output(r_t)\n",
    "        return out\n",
    "    \n",
    "def revive_C_based_on_gradient(model, decay_factor=0.01):\n",
    "    \"\"\"\n",
    "    Revival strategy: if C[i,j] == 0 but the gradient magnitude of W[i,j] is above a threshold,\n",
    "    then revive that connection by setting C[i,j] back to 1.\n",
    "    \"\"\"\n",
    "    with torch.no_grad():\n",
    "        # gradient_magnitude has shape [hidden_size, hidden_size]\n",
    "        gradient_magnitude = model.W.grad.abs()\n",
    "\n",
    "        # Where C==0 and gradient exceeds threshold => revive\n",
    "        revived_connections = (model.C.data == 0) & (gradient_magnitude > decay_factor)\n",
    "        \n",
    "        # In-place set revived connections to 1\n",
    "        model.C.data[revived_connections] = 1\n",
    " \n",
    "# 修改剪枝函数，不需要修改C为trainable\n",
    "def prune_C_by_magnitude(model, target_nonzero_count):\n",
    "    with torch.no_grad():\n",
    "        c_abs = model.C.data.abs()\n",
    "        threshold = torch.topk(c_abs.view(-1), target_nonzero_count).values[-1]\n",
    "        mask = (c_abs >= threshold).float()\n",
    "        model.C.data = mask\n",
    "\n",
    "# Define the training function with batch-level pruning and revival strategy\n",
    "def train_model(model, model_type, optimizer, num_epochs, record_interval, device, train_loader, dummy_input_shape, target_nonzero_count, tag=\"drosophila\"):\n",
    "    criterion = nn.CrossEntropyLoss()\n",
    "    epoch_loss_list = []\n",
    "    epoch_acc_list = []\n",
    "\n",
    "    # To accumulate FLOPs (recorded at each record_interval)\n",
    "    flops_list = []\n",
    "    loss_list = []\n",
    "    acc_list = []\n",
    "\n",
    "    cumulative_flops = 0\n",
    "    batch_counter = 0\n",
    "\n",
    "    # Precompute FLOPs per sample (theoretical value)\n",
    "    dummy_input = torch.randn(dummy_input_shape).to(device)\n",
    "    macs, _ = profile(model, inputs=(dummy_input,), verbose=False)\n",
    "    flops_per_sample = macs * 2  # Multiply by 2 to get the FLOPs per forward pass\n",
    "    print(f\"[{model_type}] FLOPs per sample: {flops_per_sample}\")\n",
    "\n",
    "    for epoch in range(num_epochs):\n",
    "        model.train()\n",
    "        running_loss = 0.0\n",
    "        running_correct = 0\n",
    "        running_total = 0\n",
    "\n",
    "        with tqdm(train_loader, unit=\"batch\", desc=f\"Training [{tag}] Epoch {epoch+1}/{num_epochs}\") as tepoch:\n",
    "            for images, labels in tepoch:\n",
    "                if model_type == 'rnn':\n",
    "                    inputs = images.squeeze(1).to(device)  # (batch, 28, 28)\n",
    "                else:\n",
    "                    inputs = images.view(images.size(0), -1).to(device)  # (batch, 784)\n",
    "                labels = labels.to(device)\n",
    "\n",
    "                optimizer.zero_grad()\n",
    "                outputs = model(inputs)\n",
    "                loss = criterion(outputs, labels)\n",
    "                loss.backward()\n",
    "                nn.utils.clip_grad_norm_(model.parameters(), max_norm=0.5)\n",
    "                optimizer.step()\n",
    "\n",
    "                batch_size_curr = inputs.size(0)\n",
    "                running_loss += loss.item() * batch_size_curr\n",
    "                _, predicted = torch.max(outputs, dim=1)\n",
    "                running_correct += (predicted == labels).sum().item()\n",
    "                running_total += batch_size_curr\n",
    "\n",
    "                # Accumulate FLOPs\n",
    "                cumulative_flops += flops_per_sample * batch_size_curr\n",
    "                batch_counter += 1\n",
    "\n",
    "                if batch_counter % record_interval == 0:\n",
    "                    current_loss = running_loss / running_total\n",
    "                    current_acc = running_correct / running_total\n",
    "                    flops_list.append(cumulative_flops)\n",
    "                    loss_list.append(current_loss)\n",
    "                    acc_list.append(current_acc)\n",
    "\n",
    "                tepoch.set_postfix(loss=loss.item(), accuracy=running_correct / running_total)\n",
    "\n",
    "            # Prune C after every batch, maintaining a fixed number of non-zero entries\n",
    "            prune_C_by_magnitude(model, target_nonzero_count)\n",
    "\n",
    "            # Revive some pruned connections based on gradient information\n",
    "            revive_C_based_on_gradient(model)\n",
    "\n",
    "        # End of epoch stats\n",
    "        epoch_loss = running_loss / running_total\n",
    "        epoch_acc = running_correct / running_total\n",
    "        epoch_loss_list.append(epoch_loss)\n",
    "        epoch_acc_list.append(epoch_acc)\n",
    "\n",
    "        print(f\"{model_type} Epoch {epoch+1}/{num_epochs}: Loss = {epoch_loss:.4f}, Accuracy = {epoch_acc*100:.2f}%\")\n",
    "\n",
    "    return epoch_loss_list, epoch_acc_list, flops_list, loss_list, acc_list\n",
    "\n",
    "# Set up training parameters\n",
    "device = torch.device(\"cuda\" if torch.cuda.is_available() else \"cpu\")\n",
    "print(\"Using:\", device)\n",
    "tag='drosophila_pruning'\n",
    "\n",
    "transform = transforms.Compose([\n",
    "    transforms.ToTensor(),\n",
    "    transforms.Normalize((0.1307,), (0.3081,))  # Normalization\n",
    "])\n",
    "\n",
    "train_dataset = torchvision.datasets.MNIST(root='./data', train=True, download=True, transform=transform)\n",
    "batch_size = 64\n",
    "nepochs = 5\n",
    "train_loader = torch.utils.data.DataLoader(train_dataset, batch_size=batch_size, shuffle=True)\n",
    "\n",
    "# FruitFlyRNN with pruning enabled\n",
    "hidden_size = W.shape[0]\n",
    "target_nonzero_count = torch.sum(torch.tensor(W != 0))  # Initial non-zero connections in W\n",
    "\n",
    "model_rnn_CWS_pruned = FruitFlyRNN(input_size=28, hidden_size=hidden_size, output_size=10, W_matrix=W, is_pruned=True).to(device)\n",
    "optimizer_rnn_CWS_pruned = optim.Adam(model_rnn_CWS_pruned.parameters(), lr=1e-5)\n",
    "results_rnn_CWS_pruned = train_model(model_rnn_CWS_pruned, model_type='rnn', optimizer=optimizer_rnn_CWS_pruned, num_epochs=nepochs,\n",
    "                                 record_interval=10, device=device, train_loader=train_loader, dummy_input_shape=(1,28,28), target_nonzero_count=target_nonzero_count, tag=tag)\n",
    "\n",
    "model_rnn_CWS = FruitFlyRNN(input_size=28, hidden_size=hidden_size, output_size=10, W_matrix=W, is_pruned=False).to(device)\n",
    "optimizer_rnn_CWS = optim.Adam(model_rnn_CWS.parameters(), lr=1e-5)\n",
    "results_rnn_CWS = train_model(model_rnn_CWS, model_type='rnn', optimizer=optimizer_rnn_CWS, num_epochs=nepochs,\n",
    "                                 record_interval=10, device=device, train_loader=train_loader, dummy_input_shape=(1,28,28), target_nonzero_count=target_nonzero_count, tag=tag)\n",
    "\n",
    "model_rnn_CW_pruned= FruitFlyRNN(input_size=28, hidden_size=hidden_size, output_size=10, W_matrix=W, is_pruned=True,pos_ratio=1).to(device)\n",
    "optimizer_rnn_CW_pruned = optim.Adam(model_rnn_CW_pruned.parameters(), lr=1e-5)\n",
    "results_rnn_CW_pruned = train_model(model_rnn_CW_pruned, model_type='rnn', optimizer=optimizer_rnn_CW_pruned, num_epochs=nepochs,\n",
    "                                 record_interval=10, device=device, train_loader=train_loader, dummy_input_shape=(1,28,28), target_nonzero_count=target_nonzero_count, tag=tag)\n",
    "\n",
    "model_rnn_CW= FruitFlyRNN(input_size=28, hidden_size=hidden_size, output_size=10, W_matrix=W, is_pruned=False,pos_ratio=1).to(device)\n",
    "optimizer_rnn_CW = optim.Adam(model_rnn_CW.parameters(), lr=1e-5)\n",
    "results_rnn_CW = train_model(model_rnn_CW, model_type='rnn', optimizer=optimizer_rnn_CW, num_epochs=nepochs,\n",
    "                                 record_interval=10, device=device, train_loader=train_loader, dummy_input_shape=(1,28,28), target_nonzero_count=target_nonzero_count, tag=tag)\n",
    "\n",
    "# # Perceptron model for comparison\n",
    "# model_perc = Perceptron(input_dim=28*28, hidden_dim=100, output_dim=10).to(device)\n",
    "# optimizer_perc = optim.Adam(model_perc.parameters(), lr=1e-3)\n",
    "# results_perc = train_model(model_perc, model_type='fc', optimizer=optimizer_perc, num_epochs=nepochs,\n",
    "#                            record_interval=100, device=device, train_loader=train_loader, dummy_input_shape=(1,28*28), tag=tag)\n",
    "\n",
    "# # Logistic Regression model for comparison\n",
    "# model_logreg = LogisticRegression(input_dim=28*28, output_dim=10).to(device)\n",
    "# optimizer_logreg = optim.Adam(model_logreg.parameters(), lr=1e-3)\n",
    "# results_logreg = train_model(model_logreg, model_type='fc', optimizer=optimizer_logreg, num_epochs=nepochs,\n",
    "#                              record_interval=100, device=device, train_loader=train_loader, dummy_input_shape=(1,28*28), tag=tag)"
   ]
  },
  {
   "cell_type": "code",
   "execution_count": 6,
   "metadata": {},
   "outputs": [
    {
     "name": "stdout",
     "output_type": "stream",
     "text": [
      "训练结果已保存到 drosophila_pruning.pkl\n"
     ]
    }
   ],
   "source": [
    "results = {\n",
    "    \"FlyRNN_CWS_Pruned\": {\n",
    "        \"epoch_loss\": results_rnn_CWS_pruned[0],\n",
    "        \"epoch_acc\": results_rnn_CWS_pruned[1],\n",
    "        \"flops\": results_rnn_CWS_pruned[2],\n",
    "        \"loss\": results_rnn_CWS_pruned[3],\n",
    "        \"acc\": results_rnn_CWS_pruned[4],\n",
    "    },\n",
    "    \"FlyRNN_CWS\": {\n",
    "        \"epoch_loss\": results_rnn_CWS[0],\n",
    "        \"epoch_acc\": results_rnn_CWS[1],\n",
    "        \"flops\": results_rnn_CWS[2],\n",
    "        \"loss\": results_rnn_CWS[3],\n",
    "        \"acc\": results_rnn_CWS[4],\n",
    "    },\n",
    "    \"FlyRNN_CW_Pruned\": {\n",
    "        \"epoch_loss\": results_rnn_CW_pruned[0],\n",
    "        \"epoch_acc\": results_rnn_CW_pruned[1],\n",
    "        \"flops\": results_rnn_CW_pruned[2],\n",
    "        \"loss\": results_rnn_CW_pruned[3],\n",
    "        \"acc\": results_rnn_CW_pruned[4],\n",
    "    },\n",
    "    \"FlyRNN_CW\": {\n",
    "        \"epoch_loss\": results_rnn_CW[0],\n",
    "        \"epoch_acc\": results_rnn_CW[1],\n",
    "        \"flops\": results_rnn_CW[2],\n",
    "        \"loss\": results_rnn_CW[3],\n",
    "        \"acc\": results_rnn_CW[4],\n",
    "    },\n",
    "    # \"Perceptron\": {\n",
    "    #     \"epoch_loss\": results_perc[0],\n",
    "    #     \"epoch_acc\": results_perc[1],\n",
    "    #     \"flops\": results_perc[2],\n",
    "    #     \"loss\": results_perc[3],\n",
    "    #     \"acc\": results_perc[4]\n",
    "    # },\n",
    "    # \"LogisticRegression\": {\n",
    "    #     \"epoch_loss\": results_logreg[0],\n",
    "    #     \"epoch_acc\": results_logreg[1],\n",
    "    #     \"flops\": results_logreg[2],\n",
    "    #     \"loss\": results_logreg[3],\n",
    "    #     \"acc\": results_logreg[4]\n",
    "    # },\n",
    "}\n",
    "\n",
    "with open(f\"{tag}.pkl\", \"wb\") as f:\n",
    "    pickle.dump(results, f)\n",
    "print(f\"训练结果已保存到 {tag}.pkl\")\n",
    "\n",
    "#############################################\n",
    "# 7. 加载 pickle 文件并预处理数据（对 Loss 曲线进行全局 min-max 标准化）\n",
    "#############################################\n",
    "with open(f\"{tag}.pkl\", \"rb\") as f:\n",
    "    loaded_results = pickle.load(f)\n",
    "\n",
    "# 为 Loss 曲线做标准化（min-max），对 epoch 和 FLOPs 两组数据分别处理\n",
    "def normalize_curve(curves):\n",
    "    # curves: dict {model_name: [list of loss values]}\n",
    "    all_vals = []\n",
    "    for val_list in curves.values():\n",
    "        all_vals.extend(val_list)\n",
    "    global_min = min(all_vals)\n",
    "    global_max = max(all_vals)\n",
    "    norm_curves = {}\n",
    "    for name, vals in curves.items():\n",
    "        norm_curves[name] = [(v - global_min) / (global_max - global_min) for v in vals]\n",
    "    return norm_curves\n",
    "\n",
    "# 分别提取 epoch_loss 和 FLOPs-loss曲线\n",
    "epoch_loss_curves = {\n",
    "    model_name: data[\"epoch_loss\"] for model_name, data in loaded_results.items()\n",
    "}\n",
    "flops_loss_curves = {\n",
    "    model_name: data[\"loss\"] for model_name, data in loaded_results.items()\n",
    "}\n",
    "norm_epoch_loss = normalize_curve(epoch_loss_curves)\n",
    "norm_flops_loss = normalize_curve(flops_loss_curves)"
   ]
  },
  {
   "cell_type": "code",
   "execution_count": 7,
   "metadata": {},
   "outputs": [
    {
     "data": {
      "text/plain": [
       "<matplotlib.legend.Legend at 0x7fca2f9d7b90>"
      ]
     },
     "execution_count": 7,
     "metadata": {},
     "output_type": "execute_result"
    },
    {
     "data": {
      "image/png": "[encoded data removed]",
      "text/plain": [
       "<Figure size 1200x500 with 2 Axes>"
      ]
     },
     "metadata": {},
     "output_type": "display_data"
    }
   ],
   "source": [
    "# 定义颜色（FruitFlyRNN: blue, Perceptron: green, Logistic Regression: red）\n",
    "colors = {\"FlyRNN_CWS_Pruned\": \"blue\",\"FlyRNN_CWS\": \"purple\", \n",
    "          \"FlyRNN_CW_Pruned\": \"black\",\"FlyRNN_CW\": \"orange\", \n",
    "          \"Perceptron\": \"green\", \"LogisticRegression\": \"red\"}\n",
    "\n",
    "# 第一张图：横轴均为累计 FLOPs，左侧面板为 Accuracy，右侧面板为 Loss（标准化后）\n",
    "plt.figure(figsize=(12,5))\n",
    "\n",
    "# 面板1：Accuracy vs Cumulative FLOPs (x轴：loaded_results[model][\"flops\"])\n",
    "plt.subplot(1,2,1)\n",
    "for model_name, data in loaded_results.items():\n",
    "    plt.plot(data[\"flops\"], data[\"acc\"], marker='o', color=colors[model_name], label=model_name)\n",
    "plt.title(\"Accuracy vs Cumulative FLOPs\")\n",
    "plt.xlabel(\"Cumulative FLOPs\")\n",
    "plt.ylabel(\"Accuracy\")\n",
    "plt.ylim([0,1])\n",
    "plt.legend()\n",
    "\n",
    "# 面板2：Accuracy vs Epoch\n",
    "plt.subplot(1,2,2)\n",
    "for model_name, data in loaded_results.items():\n",
    "    epochs = range(1, len(data[\"epoch_acc\"]) + 1)\n",
    "    plt.plot(epochs, data[\"epoch_acc\"], marker='o', color=colors[model_name], label=model_name)\n",
    "plt.title(\"Accuracy vs Epoch\")\n",
    "plt.xlabel(\"Epoch\")\n",
    "plt.ylabel(\"Accuracy\")\n",
    "plt.ylim([0,1])\n",
    "plt.legend()\n",
    "\n"
   ]
  },
  {
   "cell_type": "code",
   "execution_count": 5,
   "metadata": {},
   "outputs": [
    {
     "name": "stdout",
     "output_type": "stream",
     "text": [
      "Using: cuda\n",
      "[drosophila_pruning] FLOPs per sample: 4687776.0\n"
     ]
    },
    {
     "name": "stderr",
     "output_type": "stream",
     "text": [
      "Training [drosophila_pruning] Epoch 1/5: 100%|██████████| 938/938 [01:06<00:00, 14.12batch/s, accuracy=0.722, loss=0.832]  \n"
     ]
    },
    {
     "name": "stdout",
     "output_type": "stream",
     "text": [
      "drosophila_pruning Epoch 1/5: Loss = 74301.0356, Accuracy = 72.25%\n"
     ]
    },
    {
     "name": "stderr",
     "output_type": "stream",
     "text": [
      "Training [drosophila_pruning] Epoch 2/5: 100%|██████████| 938/938 [00:55<00:00, 16.99batch/s, accuracy=0.793, loss=0.372] \n"
     ]
    },
    {
     "name": "stdout",
     "output_type": "stream",
     "text": [
      "drosophila_pruning Epoch 2/5: Loss = 1.3005, Accuracy = 79.32%\n"
     ]
    },
    {
     "name": "stderr",
     "output_type": "stream",
     "text": [
      "Training [drosophila_pruning] Epoch 3/5: 100%|██████████| 938/938 [01:00<00:00, 15.42batch/s, accuracy=0.824, loss=0.662]\n"
     ]
    },
    {
     "name": "stdout",
     "output_type": "stream",
     "text": [
      "drosophila_pruning Epoch 3/5: Loss = 0.6777, Accuracy = 82.39%\n"
     ]
    },
    {
     "name": "stderr",
     "output_type": "stream",
     "text": [
      "Training [drosophila_pruning] Epoch 4/5: 100%|██████████| 938/938 [01:13<00:00, 12.68batch/s, accuracy=0.83, loss=0.293]  \n"
     ]
    },
    {
     "name": "stdout",
     "output_type": "stream",
     "text": [
      "drosophila_pruning Epoch 4/5: Loss = 1.0378, Accuracy = 83.03%\n"
     ]
    },
    {
     "name": "stderr",
     "output_type": "stream",
     "text": [
      "Training [drosophila_pruning] Epoch 5/5: 100%|██████████| 938/938 [01:20<00:00, 11.71batch/s, accuracy=0.832, loss=0.0714]\n"
     ]
    },
    {
     "name": "stdout",
     "output_type": "stream",
     "text": [
      "drosophila_pruning Epoch 5/5: Loss = 0.8834, Accuracy = 83.16%\n",
      "[drosophila_pruning] FLOPs per sample: 4687776.0\n"
     ]
    },
    {
     "name": "stderr",
     "output_type": "stream",
     "text": [
      "Training [drosophila_pruning] Epoch 1/5: 100%|██████████| 938/938 [01:21<00:00, 11.47batch/s, accuracy=0.84, loss=0.419]  \n"
     ]
    },
    {
     "name": "stdout",
     "output_type": "stream",
     "text": [
      "drosophila_pruning Epoch 1/5: Loss = 0.5725, Accuracy = 83.97%\n"
     ]
    },
    {
     "name": "stderr",
     "output_type": "stream",
     "text": [
      "Training [drosophila_pruning] Epoch 2/5: 100%|██████████| 938/938 [01:20<00:00, 11.62batch/s, accuracy=0.846, loss=0.3]  \n"
     ]
    },
    {
     "name": "stdout",
     "output_type": "stream",
     "text": [
      "drosophila_pruning Epoch 2/5: Loss = 0.5792, Accuracy = 84.59%\n"
     ]
    },
    {
     "name": "stderr",
     "output_type": "stream",
     "text": [
      "Training [drosophila_pruning] Epoch 3/5: 100%|██████████| 938/938 [01:25<00:00, 10.97batch/s, accuracy=0.837, loss=0.45]  \n"
     ]
    },
    {
     "name": "stdout",
     "output_type": "stream",
     "text": [
      "drosophila_pruning Epoch 3/5: Loss = 0.8541, Accuracy = 83.74%\n"
     ]
    },
    {
     "name": "stderr",
     "output_type": "stream",
     "text": [
      "Training [drosophila_pruning] Epoch 4/5: 100%|██████████| 938/938 [01:21<00:00, 11.51batch/s, accuracy=0.844, loss=0.524]\n"
     ]
    },
    {
     "name": "stdout",
     "output_type": "stream",
     "text": [
      "drosophila_pruning Epoch 4/5: Loss = 1.6709, Accuracy = 84.45%\n"
     ]
    },
    {
     "name": "stderr",
     "output_type": "stream",
     "text": [
      "Training [drosophila_pruning] Epoch 5/5: 100%|██████████| 938/938 [01:21<00:00, 11.51batch/s, accuracy=0.848, loss=0.369]  \n"
     ]
    },
    {
     "name": "stdout",
     "output_type": "stream",
     "text": [
      "drosophila_pruning Epoch 5/5: Loss = 24.7783, Accuracy = 84.78%\n"
     ]
    },
    {
     "data": {
      "image/png": "[encoded data removed]",
      "text/plain": [
       "<Figure size 1200x500 with 2 Axes>"
      ]
     },
     "metadata": {},
     "output_type": "display_data"
    }
   ],
   "source": [
    "import pandas as pd\n",
    "import numpy as np\n",
    "import torch\n",
    "import torch.nn as nn\n",
    "import torch.optim as optim\n",
    "import torchvision\n",
    "import torchvision.transforms as transforms\n",
    "from tqdm import tqdm\n",
    "from thop import profile\n",
    "from scipy.optimize import linear_sum_assignment\n",
    "\n",
    "############################\n",
    "# 1. 读取并处理果蝇连接矩阵\n",
    "############################\n",
    "csv_path = './data/ad_connectivity_matrix.csv'\n",
    "W_df = pd.read_csv(csv_path, index_col=0, header=0)\n",
    "W = W_df.values.astype(np.float32)\n",
    "W_min = W.min()\n",
    "W_max = W.max()\n",
    "W = (W - W_min) / (W_max - W_min + 1e-8)  # Normalize [0,1]\n",
    "\n",
    "############################\n",
    "# 2. 定义模型\n",
    "############################\n",
    "class DrosophilaRNN(nn.Module):\n",
    "    def __init__(self, input_size, hidden_size, output_size):\n",
    "        super(DrosophilaRNN, self).__init__()\n",
    "        # 线性层：input -> hidden\n",
    "        self.input_to_hidden = nn.Linear(input_size, hidden_size, bias=True)\n",
    "        # 线性层：hidden -> output\n",
    "        self.hidden_to_output = nn.Linear(hidden_size, output_size, bias=True)\n",
    "        \n",
    "        # 随机初始化 W_matrix (可学习参数), 示例使用He初始化的简化形式\n",
    "        # 如果你要特别小的初始化可以乘一个系数，例如 0.0001，但注意需要归一化后再算相似度。\n",
    "        self.W_matrix = nn.Parameter(\n",
    "            torch.randn(hidden_size, hidden_size) * 0.01\n",
    "        )\n",
    "        \n",
    "        self.hidden_size = hidden_size\n",
    "\n",
    "    def forward(self, x):\n",
    "        \"\"\"\n",
    "        x 的形状: (batch_size, time_steps, input_size)\n",
    "        例如 MNIST 情况下 x: (batch_size, 28, 28)\n",
    "        \"\"\"\n",
    "        batch_size, time_steps, _ = x.shape\n",
    "        # r(0) = 0\n",
    "        r_t = torch.zeros(batch_size, self.hidden_size, device=x.device)\n",
    "\n",
    "        for t in range(time_steps):\n",
    "            E_t = x[:, t, :]                   # (batch_size, input_size)\n",
    "            E_t_hidden = self.input_to_hidden(E_t)\n",
    "            r_prev = r_t                       # for residual\n",
    "\n",
    "            # RNN隐藏状态更新\n",
    "            r_t = r_t @ self.W_matrix          \n",
    "            r_t = r_t + E_t_hidden + r_prev    # residual/skip\n",
    "            r_t = torch.relu(r_t)\n",
    "\n",
    "        out = self.hidden_to_output(r_t)       # (batch_size, output_size)\n",
    "        return out\n",
    "\n",
    "    def prune_weights(self, cost_matrix, target_nonzero_count):\n",
    "        \"\"\"\n",
    "        使用匈牙利算法进行剪枝。保留与果蝇神经元连接最相似的那些权重。\n",
    "        cost_matrix: (hidden_size, hidden_size) 的余弦相似度矩阵\n",
    "        \"\"\"\n",
    "        # cost_matrix 形状: (hidden_size, hidden_size)\n",
    "        # 将其拉平成一维\n",
    "        cost_matrix_cpu = cost_matrix.cpu().numpy()  # 将 Tensor 转换为 NumPy 进行匈牙利算法处理\n",
    "\n",
    "        # 使用匈牙利算法得到最优匹配\n",
    "        row_ind, col_ind = linear_sum_assignment(cost_matrix_cpu, maximize=True)  # maximize=True 保留最大相似度\n",
    "\n",
    "        # 构造掩码\n",
    "        mask = torch.zeros_like(self.W_matrix)\n",
    "        for i, j in zip(row_ind, col_ind):\n",
    "            mask[i, j] = 1  # 保留相似度最高的连接\n",
    "\n",
    "        # 应用掩码\n",
    "        self.W_matrix.data *= mask\n",
    "\n",
    "############################\n",
    "# 3. 相似度计算函数\n",
    "############################\n",
    "def compute_similarity(W_rnn, W_droso):\n",
    "    \"\"\"\n",
    "    基于余弦相似度的矩阵计算。\n",
    "    假设:\n",
    "    W_rnn: [hidden_size, hidden_size]\n",
    "    W_droso: [hidden_size, hidden_size] (已在GPU上的tensor)\n",
    "    \"\"\"\n",
    "    # 先对行做归一化 (dim=1)\n",
    "    W_rnn_norm = nn.functional.normalize(W_rnn, p=2, dim=1)\n",
    "    W_droso_norm = nn.functional.normalize(W_droso, p=2, dim=1)\n",
    "    # 矩阵乘法 -> (hidden_size, hidden_size)\n",
    "    similarity_matrix = torch.matmul(W_rnn_norm, W_droso_norm.T)\n",
    "    return similarity_matrix\n",
    "\n",
    "############################\n",
    "# 4. 训练函数\n",
    "############################\n",
    "def train_model(model, optimizer, num_epochs, record_interval, device, train_loader, \n",
    "                dummy_input_shape, target_nonzero_count, W_droso_tensor, tag=\"drosophila\"):\n",
    "    \n",
    "    criterion = nn.CrossEntropyLoss()\n",
    "    epoch_loss_list = []\n",
    "    epoch_acc_list = []\n",
    "\n",
    "    # FLOPs 记录\n",
    "    flops_list = []\n",
    "    loss_list = []\n",
    "    acc_list = []\n",
    "\n",
    "    cumulative_flops = 0\n",
    "    batch_counter = 0\n",
    "\n",
    "    # 计算一次理论FLOPs\n",
    "    dummy_input = torch.randn(dummy_input_shape).to(device)\n",
    "    macs, _ = profile(model, inputs=(dummy_input,), verbose=False)\n",
    "    flops_per_sample = macs * 2  # MACs x 2 ~ FLOPs\n",
    "    print(f\"[{tag}] FLOPs per sample: {flops_per_sample}\")\n",
    "\n",
    "    for epoch in range(num_epochs):\n",
    "        model.train()\n",
    "        running_loss = 0.0\n",
    "        running_correct = 0\n",
    "        running_total = 0\n",
    "\n",
    "        with tqdm(train_loader, unit=\"batch\", desc=f\"Training [{tag}] Epoch {epoch+1}/{num_epochs}\") as tepoch:\n",
    "            for images, labels in tepoch:\n",
    "                # 维度: (batch_size, 1, 28, 28)\n",
    "                # 转成 (batch_size, 28, 28)\n",
    "                inputs = images.squeeze(1).to(device)\n",
    "                labels = labels.to(device)\n",
    "\n",
    "                optimizer.zero_grad()\n",
    "                outputs = model(inputs)\n",
    "                loss = criterion(outputs, labels)\n",
    "                loss.backward()\n",
    "                \n",
    "                # 防止梯度爆炸\n",
    "                nn.utils.clip_grad_norm_(model.parameters(), max_norm=0.5)\n",
    "                optimizer.step()\n",
    "\n",
    "                batch_size_curr = inputs.size(0)\n",
    "                running_loss += loss.item() * batch_size_curr\n",
    "                _, predicted = torch.max(outputs, dim=1)\n",
    "                running_correct += (predicted == labels).sum().item()\n",
    "                running_total += batch_size_curr\n",
    "\n",
    "                # 累积FLOPs\n",
    "                cumulative_flops += flops_per_sample * batch_size_curr\n",
    "                batch_counter += 1\n",
    "\n",
    "                # 每隔 record_interval 记录一次指标\n",
    "                if batch_counter % record_interval == 0:\n",
    "                    current_loss = running_loss / running_total\n",
    "                    current_acc = running_correct / running_total\n",
    "                    flops_list.append(cumulative_flops)\n",
    "                    loss_list.append(current_loss)\n",
    "                    acc_list.append(current_acc)\n",
    "\n",
    "                # 每100个batch进行一次剪枝\n",
    "                if batch_counter % 100 == 0:\n",
    "                    # 计算相似度\n",
    "                    cost_matrix = compute_similarity(model.W_matrix.data, W_droso_tensor)\n",
    "                    # 剪枝\n",
    "                    model.prune_weights(cost_matrix, target_nonzero_count)\n",
    "\n",
    "                tepoch.set_postfix(loss=loss.item(), accuracy=running_correct / running_total)\n",
    "\n",
    "        # epoch 结束后\n",
    "        epoch_loss = running_loss / running_total\n",
    "        epoch_acc = running_correct / running_total\n",
    "        epoch_loss_list.append(epoch_loss)\n",
    "        epoch_acc_list.append(epoch_acc)\n",
    "\n",
    "        print(f\"{tag} Epoch {epoch+1}/{num_epochs}: Loss = {epoch_loss:.4f}, Accuracy = {epoch_acc*100:.2f}%\")\n",
    "\n",
    "    return epoch_loss_list, epoch_acc_list, flops_list, loss_list, acc_list\n",
    "\n",
    "\n",
    "############################\n",
    "# 5. 准备数据和超参数，开始训练\n",
    "############################\n",
    "if __name__ == \"__main__\":\n",
    "    device = torch.device(\"cuda\" if torch.cuda.is_available() else \"cpu\")\n",
    "    print(\"Using:\", device)\n",
    "    tag = 'drosophila_pruning'\n",
    "\n",
    "    transform = transforms.Compose([\n",
    "        transforms.ToTensor(),\n",
    "        transforms.Normalize((0.1307,), (0.3081,))  # MNIST 常用归一化\n",
    "    ])\n",
    "\n",
    "    # MNIST 训练集\n",
    "    train_dataset = torchvision.datasets.MNIST(\n",
    "        root='./data', train=True, download=True, transform=transform\n",
    "    )\n",
    "    batch_size = 64\n",
    "    nepochs = 5\n",
    "    train_loader = torch.utils.data.DataLoader(train_dataset, batch_size=batch_size, shuffle=True)\n",
    "\n",
    "    # 果蝇连接矩阵维度\n",
    "    hidden_size = W.shape[0]  # 假设 W.shape = (2953, 2953) 等\n",
    "    # 将 W 转成 Tensor 并放到 GPU\n",
    "    W_droso_tensor = torch.tensor(W, dtype=torch.float32, device=device)\n",
    "\n",
    "    # 目标非零连接数量，根据果蝇连接矩阵中非零元素来定\n",
    "    target_nonzero_count = torch.sum(torch.tensor(W != 0)).to(device)\n",
    "\n",
    "    # 初始化 RNN 模型\n",
    "    model = DrosophilaRNN(input_size=28, hidden_size=hidden_size, output_size=10)\n",
    "    model.to(device)\n",
    "\n",
    "    # 优化器\n",
    "    optimizer = optim.Adam(model.parameters(), lr=0.001)\n",
    "\n",
    "    # 开始训练\n",
    "    train_model(\n",
    "        model, optimizer,\n",
    "        num_epochs=nepochs,\n",
    "        record_interval=100,\n",
    "        device=device,\n",
    "        train_loader=train_loader,\n",
    "        dummy_input_shape=(1, 28, 28),\n",
    "        target_nonzero_count=target_nonzero_count,\n",
    "        W_droso_tensor=W_droso_tensor,\n",
    "        tag=tag\n",
    "    )\n",
    "import matplotlib.pyplot as plt\n",
    "import numpy as np\n",
    "\n",
    "def plot_training_metrics(epoch_acc_list, flops_list, acc_list):\n",
    "    \"\"\"\n",
    "    绘制训练过程中两个图表：\n",
    "    1. train_accuracy vs. epoch\n",
    "    2. train_accuracy vs. cummulated FLOPs\n",
    "\n",
    "    参数:\n",
    "        epoch_acc_list: 每个 epoch 结束时记录的训练准确率列表\n",
    "        flops_list: 在记录间隔处累计的 FLOPs 列表\n",
    "        acc_list: 在记录间隔处对应的训练准确率列表\n",
    "    \"\"\"\n",
    "    # 绘制 train_accuracy vs. epoch\n",
    "    epochs = np.arange(1, len(epoch_acc_list) + 1)\n",
    "    plt.figure(figsize=(12, 5))\n",
    "    \n",
    "    plt.subplot(1, 2, 1)\n",
    "    plt.plot(epochs, epoch_acc_list, marker='o', linestyle='-', color='blue')\n",
    "    plt.xlabel(\"Epoch\")\n",
    "    plt.ylabel(\"Train Accuracy\")\n",
    "    plt.title(\"Train Accuracy vs. Epoch\")\n",
    "    plt.grid(True)\n",
    "    \n",
    "    # 绘制 train_accuracy vs. cummulated FLOPs\n",
    "    plt.subplot(1, 2, 2)\n",
    "    plt.plot(flops_list, acc_list, marker='o', linestyle='-', color='green')\n",
    "    plt.xlabel(\"Cumulated FLOPs\")\n",
    "    plt.ylabel(\"Train Accuracy\")\n",
    "    plt.title(\"Train Accuracy vs. Cumulated FLOPs\")\n",
    "    plt.grid(True)\n",
    "    \n",
    "    plt.tight_layout()\n",
    "    plt.show()\n",
    "# 训练结束后获取返回指标\n",
    "epoch_loss_list, epoch_acc_list, flops_list, loss_list, acc_list = train_model(\n",
    "    model, optimizer,\n",
    "    num_epochs=nepochs,\n",
    "    record_interval=100,\n",
    "    device=device,\n",
    "    train_loader=train_loader,\n",
    "    dummy_input_shape=(1, 28, 28),\n",
    "    target_nonzero_count=target_nonzero_count,\n",
    "    W_droso_tensor=W_droso_tensor,\n",
    "    tag=tag\n",
    ")\n",
    "\n",
    "# 绘图\n",
    "plot_training_metrics(epoch_acc_list, flops_list, acc_list)\n"
   ]
  },
  {
   "cell_type": "code",
   "execution_count": 22,
   "metadata": {},
   "outputs": [
    {
     "name": "stdout",
     "output_type": "stream",
     "text": [
      "[drosophila_fista] FLOPs per sample: 4687776.0\n"
     ]
    },
    {
     "name": "stderr",
     "output_type": "stream",
     "text": [
      "Training [drosophila_fista] Epoch 1/5: 100%|██████████| 938/938 [00:37<00:00, 25.13batch/s, accuracy=0.301, loss=5.58e+3] \n"
     ]
    },
    {
     "name": "stdout",
     "output_type": "stream",
     "text": [
      "drosophila_fista Epoch 1/5: Loss = 6257.7469, Accuracy = 30.14%\n"
     ]
    },
    {
     "name": "stderr",
     "output_type": "stream",
     "text": [
      "Training [drosophila_fista] Epoch 2/5: 100%|██████████| 938/938 [00:37<00:00, 25.03batch/s, accuracy=0.461, loss=4.38e+3]\n"
     ]
    },
    {
     "name": "stdout",
     "output_type": "stream",
     "text": [
      "drosophila_fista Epoch 2/5: Loss = 4966.6741, Accuracy = 46.14%\n"
     ]
    },
    {
     "name": "stderr",
     "output_type": "stream",
     "text": [
      "Training [drosophila_fista] Epoch 3/5: 100%|██████████| 938/938 [00:37<00:00, 25.09batch/s, accuracy=0.506, loss=3.35e+3]\n"
     ]
    },
    {
     "name": "stdout",
     "output_type": "stream",
     "text": [
      "drosophila_fista Epoch 3/5: Loss = 3847.8104, Accuracy = 50.55%\n"
     ]
    },
    {
     "name": "stderr",
     "output_type": "stream",
     "text": [
      "Training [drosophila_fista] Epoch 4/5: 100%|██████████| 938/938 [00:37<00:00, 25.07batch/s, accuracy=0.517, loss=2.49e+3]\n"
     ]
    },
    {
     "name": "stdout",
     "output_type": "stream",
     "text": [
      "drosophila_fista Epoch 4/5: Loss = 2902.5910, Accuracy = 51.73%\n"
     ]
    },
    {
     "name": "stderr",
     "output_type": "stream",
     "text": [
      "Training [drosophila_fista] Epoch 5/5: 100%|██████████| 938/938 [00:37<00:00, 25.01batch/s, accuracy=0.51, loss=1.8e+3]  "
     ]
    },
    {
     "name": "stdout",
     "output_type": "stream",
     "text": [
      "drosophila_fista Epoch 5/5: Loss = 2127.4043, Accuracy = 51.05%\n",
      "Results saved to drosophila_fista_results.pkl\n"
     ]
    },
    {
     "name": "stderr",
     "output_type": "stream",
     "text": [
      "\n"
     ]
    }
   ],
   "source": [
    "import pandas as pd\n",
    "import numpy as np\n",
    "import torch\n",
    "import torch.nn as nn\n",
    "import torch.optim as optim\n",
    "import torchvision\n",
    "import torchvision.transforms as transforms\n",
    "from tqdm import tqdm\n",
    "from thop import profile\n",
    "from scipy.optimize import linear_sum_assignment\n",
    "import pickle\n",
    "\n",
    "# 1. 读取并处理果蝇连接矩阵\n",
    "csv_path = './data/ad_connectivity_matrix.csv'\n",
    "W_df = pd.read_csv(csv_path, index_col=0, header=0)\n",
    "W = W_df.values.astype(np.float32)\n",
    "W_min = W.min()\n",
    "W_max = W.max()\n",
    "W = (W - W_min) / (W_max - W_min + 1e-8)  # Normalize [0,1]\n",
    "\n",
    "# 2. 定义模型\n",
    "class DrosophilaRNN(nn.Module):\n",
    "    def __init__(self, input_size, hidden_size, output_size, W_droso_tensor):\n",
    "        super(DrosophilaRNN, self).__init__()\n",
    "        self.input_to_hidden = nn.Linear(input_size, hidden_size, bias=True)\n",
    "        self.hidden_to_output = nn.Linear(hidden_size, output_size, bias=True)\n",
    "        \n",
    "        # 初始化 W_matrix (可学习和不可学习部分)\n",
    "        self.W_matrix = nn.Parameter(torch.randn(hidden_size, hidden_size) * 0.001)\n",
    "        self.register_buffer('W_droso', W_droso_tensor)  # 将果蝇连接矩阵作为buffer保存\n",
    "\n",
    "        self.hidden_size = hidden_size\n",
    "        self.lambda_l1 = 1e-5  # L1正则化的系数\n",
    "\n",
    "    def forward(self, x):\n",
    "        batch_size, time_steps, _ = x.shape\n",
    "        r_t = torch.zeros(batch_size, self.hidden_size, device=x.device)\n",
    "\n",
    "        for t in range(time_steps):\n",
    "            E_t = x[:, t, :]\n",
    "            E_t_hidden = self.input_to_hidden(E_t)\n",
    "            r_prev = r_t\n",
    "\n",
    "            r_t = r_t @ self.W_matrix          \n",
    "            r_t = r_t + E_t_hidden + r_prev    \n",
    "            r_t = torch.relu(r_t)\n",
    "\n",
    "        out = self.hidden_to_output(r_t)  \n",
    "        return out\n",
    "\n",
    "    def l1_regularization(self):\n",
    "        return torch.sum(torch.abs(self.W_matrix))  # L1 正则化项\n",
    "\n",
    "# FISTA优化算法实现\n",
    "class FISTAOptimizer(optim.Optimizer):\n",
    "    def __init__(self, params, lr=1e-3, lambda_l1=1e-5):\n",
    "        defaults = dict(lr=lr, lambda_l1=lambda_l1)\n",
    "        super(FISTAOptimizer, self).__init__(params, defaults)\n",
    "\n",
    "    def step(self, closure=None):\n",
    "        loss = closure() if closure is not None else None\n",
    "        for group in self.param_groups:\n",
    "            for p in group['params']:\n",
    "                if p.grad is None:\n",
    "                    continue\n",
    "                d_p = p.grad.data\n",
    "                lr = group['lr']\n",
    "                lambda_l1 = group['lambda_l1']\n",
    "\n",
    "                # FISTA的加速步\n",
    "                p.data = p.data - lr * d_p\n",
    "\n",
    "                # L1正则化：软阈值处理\n",
    "                p.data = torch.sign(p.data) * torch.maximum(torch.abs(p.data) - lr * lambda_l1, torch.zeros_like(p.data))\n",
    "        return loss\n",
    "\n",
    "# 3. 相似度计算函数\n",
    "def compute_similarity(W_rnn, W_droso):\n",
    "    W_rnn_norm = nn.functional.normalize(W_rnn, p=2, dim=1)\n",
    "    W_droso_norm = nn.functional.normalize(W_droso, p=2, dim=1)\n",
    "    similarity_matrix = torch.matmul(W_rnn_norm, W_droso_norm.T)\n",
    "    return similarity_matrix\n",
    "\n",
    "# 4. 训练函数\n",
    "def train_model(model, optimizer, num_epochs, record_interval, device, train_loader, \n",
    "                dummy_input_shape, target_nonzero_count, W_droso_tensor, tag=\"drosophila\"):\n",
    "    \n",
    "    criterion = nn.CrossEntropyLoss()\n",
    "    epoch_loss_list = []\n",
    "    epoch_acc_list = []\n",
    "\n",
    "    # FLOPs 记录\n",
    "    flops_list = []\n",
    "    loss_list = []\n",
    "    acc_list = []\n",
    "\n",
    "    cumulative_flops = 0\n",
    "    batch_counter = 0\n",
    "\n",
    "    # 计算一次理论FLOPs\n",
    "    dummy_input = torch.randn(dummy_input_shape).to(device)\n",
    "    macs, _ = profile(model, inputs=(dummy_input,), verbose=False)\n",
    "    flops_per_sample = macs * 2  # MACs x 2 ~ FLOPs\n",
    "    print(f\"[{tag}] FLOPs per sample: {flops_per_sample}\")\n",
    "\n",
    "    for epoch in range(num_epochs):\n",
    "        model.train()\n",
    "        running_loss = 0.0\n",
    "        running_correct = 0\n",
    "        running_total = 0\n",
    "\n",
    "        with tqdm(train_loader, unit=\"batch\", desc=f\"Training [{tag}] Epoch {epoch+1}/{num_epochs}\") as tepoch:\n",
    "            for images, labels in tepoch:\n",
    "                inputs = images.squeeze(1).to(device)\n",
    "                labels = labels.to(device)\n",
    "\n",
    "                optimizer.zero_grad()\n",
    "                outputs = model(inputs)\n",
    "                loss = criterion(outputs, labels) + model.l1_regularization()\n",
    "                loss.backward()\n",
    "                \n",
    "                nn.utils.clip_grad_norm_(model.parameters(), max_norm=0.5)\n",
    "                optimizer.step()\n",
    "\n",
    "                batch_size_curr = inputs.size(0)\n",
    "                running_loss += loss.item() * batch_size_curr\n",
    "                _, predicted = torch.max(outputs, dim=1)\n",
    "                running_correct += (predicted == labels).sum().item()\n",
    "                running_total += batch_size_curr\n",
    "\n",
    "                # 累积FLOPs\n",
    "                cumulative_flops += flops_per_sample * batch_size_curr\n",
    "                batch_counter += 1\n",
    "\n",
    "                if batch_counter % record_interval == 0:\n",
    "                    current_loss = running_loss / running_total\n",
    "                    current_acc = running_correct / running_total\n",
    "                    flops_list.append(cumulative_flops)\n",
    "                    loss_list.append(current_loss)\n",
    "                    acc_list.append(current_acc)\n",
    "\n",
    "                tepoch.set_postfix(loss=loss.item(), accuracy=running_correct / running_total)\n",
    "\n",
    "        epoch_loss = running_loss / running_total\n",
    "        epoch_acc = running_correct / running_total\n",
    "        epoch_loss_list.append(epoch_loss)\n",
    "        epoch_acc_list.append(epoch_acc)\n",
    "\n",
    "        print(f\"{tag} Epoch {epoch+1}/{num_epochs}: Loss = {epoch_loss:.4f}, Accuracy = {epoch_acc*100:.2f}%\")\n",
    "\n",
    "    return epoch_loss_list, epoch_acc_list, flops_list, loss_list, acc_list\n",
    "\n",
    "# 5. 准备数据和超参数，开始训练\n",
    "if __name__ == \"__main__\":\n",
    "    device = torch.device(\"cuda\" if torch.cuda.is_available() else \"cpu\")\n",
    "    tag = 'drosophila_fista'\n",
    "\n",
    "    transform = transforms.Compose([\n",
    "        transforms.ToTensor(),\n",
    "        transforms.Normalize((0.1307,), (0.3081,))  \n",
    "    ])\n",
    "\n",
    "    train_dataset = torchvision.datasets.MNIST(\n",
    "        root='./data', train=True, download=True, transform=transform\n",
    "    )\n",
    "    batch_size = 64\n",
    "    nepochs = 5\n",
    "    train_loader = torch.utils.data.DataLoader(train_dataset, batch_size=batch_size, shuffle=True)\n",
    "\n",
    "    hidden_size = W.shape[0]\n",
    "    W_droso_tensor = torch.tensor(W, dtype=torch.float32, device=device)\n",
    "\n",
    "    target_nonzero_count = torch.sum(torch.tensor(W != 0)).to(device)\n",
    "\n",
    "    model = DrosophilaRNN(input_size=28, hidden_size=hidden_size, output_size=10, W_droso_tensor=W_droso_tensor)\n",
    "    model.to(device)\n",
    "\n",
    "    optimizer = FISTAOptimizer(model.parameters(), lr=0.001, lambda_l1=1e-5)\n",
    "\n",
    "    epoch_loss_list, epoch_acc_list, flops_list, loss_list, acc_list = train_model(\n",
    "        model, optimizer,\n",
    "        num_epochs=nepochs,\n",
    "        record_interval=100,\n",
    "        device=device,\n",
    "        train_loader=train_loader,\n",
    "        dummy_input_shape=(1, 28, 28),\n",
    "        target_nonzero_count=target_nonzero_count,\n",
    "        W_droso_tensor=W_droso_tensor,\n",
    "        tag=tag\n",
    "    )\n",
    "\n",
    "    # 保存训练结果\n",
    "    results = {\n",
    "        'epoch_loss_list': epoch_loss_list,\n",
    "        'epoch_acc_list': epoch_acc_list,\n",
    "        'flops_list': flops_list,\n",
    "        'loss_list': loss_list,\n",
    "        'acc_list': acc_list\n",
    "    }\n",
    "\n",
    "    with open(f'{tag}_results.pkl', 'wb') as f:\n",
    "        pickle.dump(results, f)\n",
    "\n",
    "    print(f\"Results saved to {tag}_results.pkl\")\n"
   ]
  },
  {
   "cell_type": "code",
   "execution_count": null,
   "metadata": {},
   "outputs": [],
   "source": []
  }
 ],
 "metadata": {
  "kernelspec": {
   "display_name": "cuda_env",
   "language": "python",
   "name": "python3"
  },
  "language_info": {
   "codemirror_mode": {
    "name": "ipython",
    "version": 3
   },
   "file_extension": ".py",
   "mimetype": "text/x-python",
   "name": "python",
   "nbconvert_exporter": "python",
   "pygments_lexer": "ipython3",
   "version": "3.11.5"
  }
 },
 "nbformat": 4,
 "nbformat_minor": 2
}
